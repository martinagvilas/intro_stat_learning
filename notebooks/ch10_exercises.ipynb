{
 "cells": [
  {
   "cell_type": "markdown",
   "metadata": {},
   "source": [
    "# Applied exercises"
   ]
  },
  {
   "cell_type": "markdown",
   "metadata": {},
   "source": [
    "### Exercise 7\n",
    "\n",
    "In the chapter, we mentioned the use of correlation-based distance and Euclidean distance as dissimilarity measures for hierarchical clustering. It turns out that these two measures are almost equivalent: if each observation has been centered to have mean zero and standard deviation one, and if we let rij denote the correlation between the ith and jth observations, then the quantity 1−rij is proportional to the squared Euclidean distance between the ith and jth observations. On the USArrests data, show that this proportionality holds. Hint: The Euclidean distance can be calculated using the dist() function, and correlations can be calculated using the cor() function."
   ]
  },
  {
   "cell_type": "markdown",
   "metadata": {},
   "source": [
    "#### Answer"
   ]
  },
  {
   "cell_type": "code",
   "execution_count": 1,
   "metadata": {},
   "outputs": [],
   "source": [
    "import numpy as np\n",
    "import pandas as pd\n",
    "from scipy.spatial.distance import pdist\n",
    "from sklearn.preprocessing import StandardScaler"
   ]
  },
  {
   "cell_type": "markdown",
   "metadata": {},
   "source": [
    "Let's inspect the data:"
   ]
  },
  {
   "cell_type": "code",
   "execution_count": 2,
   "metadata": {},
   "outputs": [
    {
     "name": "stdout",
     "output_type": "stream",
     "text": [
      "                Murder  Assault  UrbanPop  Rape\n",
      "Alabama           13.2      236        58  21.2\n",
      "Alaska            10.0      263        48  44.5\n",
      "Arizona            8.1      294        80  31.0\n",
      "Arkansas           8.8      190        50  19.5\n",
      "California         9.0      276        91  40.6\n",
      "Colorado           7.9      204        78  38.7\n",
      "Connecticut        3.3      110        77  11.1\n",
      "Delaware           5.9      238        72  15.8\n",
      "Florida           15.4      335        80  31.9\n",
      "Georgia           17.4      211        60  25.8\n",
      "Hawaii             5.3       46        83  20.2\n",
      "Idaho              2.6      120        54  14.2\n",
      "Illinois          10.4      249        83  24.0\n",
      "Indiana            7.2      113        65  21.0\n",
      "Iowa               2.2       56        57  11.3\n",
      "Kansas             6.0      115        66  18.0\n",
      "Kentucky           9.7      109        52  16.3\n",
      "Louisiana         15.4      249        66  22.2\n",
      "Maine              2.1       83        51   7.8\n",
      "Maryland          11.3      300        67  27.8\n",
      "Massachusetts      4.4      149        85  16.3\n",
      "Michigan          12.1      255        74  35.1\n",
      "Minnesota          2.7       72        66  14.9\n",
      "Mississippi       16.1      259        44  17.1\n",
      "Missouri           9.0      178        70  28.2\n",
      "Montana            6.0      109        53  16.4\n",
      "Nebraska           4.3      102        62  16.5\n",
      "Nevada            12.2      252        81  46.0\n",
      "New Hampshire      2.1       57        56   9.5\n",
      "New Jersey         7.4      159        89  18.8\n",
      "New Mexico        11.4      285        70  32.1\n",
      "New York          11.1      254        86  26.1\n",
      "North Carolina    13.0      337        45  16.1\n",
      "North Dakota       0.8       45        44   7.3\n",
      "Ohio               7.3      120        75  21.4\n",
      "Oklahoma           6.6      151        68  20.0\n",
      "Oregon             4.9      159        67  29.3\n",
      "Pennsylvania       6.3      106        72  14.9\n",
      "Rhode Island       3.4      174        87   8.3\n",
      "South Carolina    14.4      279        48  22.5\n",
      "South Dakota       3.8       86        45  12.8\n",
      "Tennessee         13.2      188        59  26.9\n",
      "Texas             12.7      201        80  25.5\n",
      "Utah               3.2      120        80  22.9\n",
      "Vermont            2.2       48        32  11.2\n",
      "Virginia           8.5      156        63  20.7\n",
      "Washington         4.0      145        73  26.2\n",
      "West Virginia      5.7       81        39   9.3\n",
      "Wisconsin          2.6       53        66  10.8\n",
      "Wyoming            6.8      161        60  15.6\n"
     ]
    }
   ],
   "source": [
    "# Load USA arrests data\n",
    "data_usarrests = pd.read_csv('../data/usa_arrest.csv')\n",
    "print(data_usarrests)"
   ]
  },
  {
   "cell_type": "code",
   "execution_count": 3,
   "metadata": {},
   "outputs": [],
   "source": [
    "# Define X\n",
    "features = ['Murder', 'Assault', 'UrbanPop', 'Rape']\n",
    "X = data_usarrests.loc[:, features].values\n",
    "\n",
    "# Standarize data\n",
    "scaler = StandardScaler()\n",
    "X = scaler.fit_transform(X)"
   ]
  },
  {
   "cell_type": "markdown",
   "metadata": {},
   "source": [
    "Let's make sure we have transformed the data to have mean zero and std 1:"
   ]
  },
  {
   "cell_type": "code",
   "execution_count": 4,
   "metadata": {},
   "outputs": [
    {
     "name": "stdout",
     "output_type": "stream",
     "text": [
      "These are the columns means: \n",
      "[-7.10542736e-17  1.38777878e-16 -4.39648318e-16  8.59312621e-16]\n",
      "\n",
      "These are the columns std: \n",
      "[1. 1. 1. 1.]\n"
     ]
    }
   ],
   "source": [
    "# Take mean and std of each column (feature)\n",
    "mean = np.mean(X,axis=0)\n",
    "print(\"These are the columns means: \\n\" + str(mean))\n",
    "std = np.std(X, axis=0)\n",
    "print(\"\\nThese are the columns std: \\n\" + str(std))"
   ]
  },
  {
   "cell_type": "markdown",
   "metadata": {},
   "source": [
    "Now we calculate the eucledian distance and the 1- corrlation values for the paiwise comparisons of each row in X:"
   ]
  },
  {
   "cell_type": "code",
   "execution_count": 5,
   "metadata": {},
   "outputs": [],
   "source": [
    "euclidean = pdist(X, metric='seuclidean') # calculate squared euclidean distance\n",
    "correlation = 1 - pdist(X, metric='correlation') # calculate 1 -correlation "
   ]
  },
  {
   "cell_type": "markdown",
   "metadata": {},
   "source": [
    "Then we take the ..."
   ]
  },
  {
   "cell_type": "code",
   "execution_count": 6,
   "metadata": {},
   "outputs": [
    {
     "name": "stdout",
     "output_type": "stream",
     "text": [
      "The median is: 0.0\n"
     ]
    }
   ],
   "source": [
    "constant = correlation/euclidean\n",
    "median_constant = np.median(constant)\n",
    "\n",
    "proportion = correlation - median_constant*euclidean\n",
    "median_proportion = np.median(proportion)\n",
    "print('The median is: ' + str(median_proportion))"
   ]
  },
  {
   "cell_type": "markdown",
   "metadata": {},
   "source": [
    "### Exercise 8"
   ]
  },
  {
   "cell_type": "markdown",
   "metadata": {},
   "source": [
    "In Section 10.2.3, a formula for calculating PVE was given in Equation 10.8. We also saw that the PVE can be obtained using the sdev output of the prcomp() function.\n",
    "\n",
    "On the USArrests data, calculate PVE in two ways:\n",
    "- (a) Using the sdev output of the prcomp() function, as was done in Section 10.2.3.\n",
    "- (b) By applying Equation 10.8 directly. That is, use the prcomp() function to compute the principal component loadings. Then, use those loadings in Equation 10.8 to obtain the PVE.\n",
    "\n",
    "These two approaches should give the same results.\n",
    "\n",
    "Hint: You will only obtain the same results in (a) and (b) if the same data is used in both cases. For instance, if in (a) you performed prcomp() using centered and scaled variables, then you must center and scale the variables before applying Equation 10.3 in (b)."
   ]
  },
  {
   "cell_type": "markdown",
   "metadata": {},
   "source": [
    "#### Answer"
   ]
  },
  {
   "cell_type": "code",
   "execution_count": 7,
   "metadata": {},
   "outputs": [],
   "source": [
    "from sklearn.decomposition import PCA"
   ]
  },
  {
   "cell_type": "markdown",
   "metadata": {},
   "source": [
    "Let's compute PCA over scaled data:"
   ]
  },
  {
   "cell_type": "code",
   "execution_count": 8,
   "metadata": {},
   "outputs": [],
   "source": [
    "# Compute PCA\n",
    "pca = PCA()\n",
    "pca_data = pca.fit_transform(X)"
   ]
  },
  {
   "cell_type": "markdown",
   "metadata": {},
   "source": [
    "Let's compute the proportion of variance explained by each component using the output explained_variance_ratio_ of scikit learn:"
   ]
  },
  {
   "cell_type": "code",
   "execution_count": 9,
   "metadata": {},
   "outputs": [
    {
     "name": "stdout",
     "output_type": "stream",
     "text": [
      "                  PCA_1     PCA_2     PCA_3     PCA_4\n",
      "Variance_ratio  0.62006  0.247441  0.089141  0.043358\n"
     ]
    }
   ],
   "source": [
    "# Print explained variance by each component\n",
    "variance_ratio = pca.explained_variance_ratio_\n",
    "\n",
    "columns_pca = ['PCA_1', 'PCA_2', 'PCA_3', 'PCA_4']\n",
    "variance_df = pd.DataFrame([variance_ratio], index = ['Variance_ratio'], columns=columns_pca)\n",
    "print(variance_df)"
   ]
  },
  {
   "cell_type": "markdown",
   "metadata": {},
   "source": [
    "Let's compute the PVE using Equation 10.8. "
   ]
  },
  {
   "cell_type": "code",
   "execution_count": 10,
   "metadata": {},
   "outputs": [],
   "source": [
    "# Define PCA loadings\n",
    "pca_loadings = (pca.components_).T\n",
    "pca_loadings_df = pd.DataFrame(pca_loadings, index=features, columns=columns_pca)"
   ]
  },
  {
   "cell_type": "code",
   "execution_count": 11,
   "metadata": {},
   "outputs": [
    {
     "name": "stdout",
     "output_type": "stream",
     "text": [
      "PCA_0 PVE :0.6200603947873735\n",
      "PCA_1 PVE :0.2474412881349605\n",
      "PCA_2 PVE :0.08914079514520756\n",
      "PCA_3 PVE :0.043357521932458856\n"
     ]
    }
   ],
   "source": [
    "# Compute denominator (this is going to be the same for every pca)\n",
    "matrix_sqr = X**2 \n",
    "sum_denominator = np.sum(matrix_sqr)\n",
    "\n",
    "# Compute numerator for each pca\n",
    "for pca in range(0,len(columns_pca)):\n",
    "    \n",
    "    # import corresponding loadings\n",
    "    loadings = pca_loadings[:,pca]\n",
    "\n",
    "    # make sure to grab correct loadings (their sum of squares should approximate 1)\n",
    "    assert np.sum(loadings**2) > 0.99\n",
    "    \n",
    "    # compute numerator\n",
    "    matrix = X * loadings\n",
    "    sum_pred_n = np.sum(matrix, axis=1)\n",
    "    sum_pred_n_sqr = sum_pred_n ** 2\n",
    "    sum_numerator = np.sum(sum_pred_n_sqr)\n",
    "    \n",
    "    answer = sum_numerator/sum_denominator\n",
    "    print('PCA_' + str(pca) + ' PVE :' + str(answer))\n"
   ]
  },
  {
   "cell_type": "markdown",
   "metadata": {},
   "source": [
    "There is a easier way to do this:\n",
    "   "
   ]
  },
  {
   "cell_type": "code",
   "execution_count": 12,
   "metadata": {},
   "outputs": [],
   "source": [
    "#######"
   ]
  },
  {
   "cell_type": "markdown",
   "metadata": {},
   "source": [
    "### Exercise 9"
   ]
  },
  {
   "cell_type": "markdown",
   "metadata": {},
   "source": [
    "Consider the USArrests data. We will now perform hierarchical clustering on the states.\n",
    "\n",
    "- (a) Using hierarchical clustering with complete linkage and Euclidean distance, cluster the states.\n",
    "- (b) Cut the dendrogram at a height that results in three distinct clusters. Which states belong to which clusters?\n",
    "- (c) Hierarchically cluster the states using complete linkage and Euclidean distance, after scaling the variables to have standard deviation one.\n",
    "- (d) What effect does scaling the variables have on the hierarchical clustering obtained? In your opinion, should the variables be scaled before the inter-observation dissimilarities are computed? Provide a justification for your answer."
   ]
  },
  {
   "cell_type": "markdown",
   "metadata": {},
   "source": [
    "#### Answer:"
   ]
  },
  {
   "cell_type": "markdown",
   "metadata": {},
   "source": [
    "Let's do hierarchical clutering with complete linkage and Euclidean distance using Scipy:"
   ]
  },
  {
   "cell_type": "code",
   "execution_count": 13,
   "metadata": {},
   "outputs": [],
   "source": [
    "from scipy.cluster.hierarchy import dendrogram, linkage, cut_tree\n",
    "\n",
    "import matplotlib.pyplot as plt\n",
    "%matplotlib inline"
   ]
  },
  {
   "cell_type": "code",
   "execution_count": 14,
   "metadata": {},
   "outputs": [
    {
     "data": {
      "image/png": "[encoded data removed]",
      "text/plain": [
       "<Figure size 1800x720 with 1 Axes>"
      ]
     },
     "metadata": {
      "needs_background": "light"
     },
     "output_type": "display_data"
    }
   ],
   "source": [
    "# Define non-scaled data\n",
    "X_raw = data_usarrests.loc[:, features].values\n",
    "\n",
    "# Perform hierarchical clustering\n",
    "hc_usarrests = linkage(X_raw, method='complete', metric='euclidean')\n",
    "\n",
    "# Plot dedrogram\n",
    "states = data_usarrests.index.get_values()\n",
    "\n",
    "plt.figure(figsize=(25, 10))\n",
    "plt.title('Hierarchical clustering with complete linkage and euclidean distance - NON SCALED DATA', size=25)\n",
    "plt.xlabel('city', size=20)\n",
    "plt.ylabel('distance', size=20)\n",
    "dendrogram(hc_usarrests,leaf_rotation=90., leaf_font_size=15, labels=states)\n",
    "plt.show()"
   ]
  },
  {
   "cell_type": "code",
   "execution_count": 15,
   "metadata": {},
   "outputs": [
    {
     "name": "stdout",
     "output_type": "stream",
     "text": [
      "                Cluster\n",
      "Alabama               0\n",
      "Alaska                0\n",
      "Arizona               0\n",
      "Arkansas              1\n",
      "California            0\n",
      "Colorado              1\n",
      "Connecticut           2\n",
      "Delaware              0\n",
      "Florida               0\n",
      "Georgia               1\n",
      "Hawaii                2\n",
      "Idaho                 2\n",
      "Illinois              0\n",
      "Indiana               2\n",
      "Iowa                  2\n",
      "Kansas                2\n",
      "Kentucky              2\n",
      "Louisiana             0\n",
      "Maine                 2\n",
      "Maryland              0\n",
      "Massachusetts         1\n",
      "Michigan              0\n",
      "Minnesota             2\n",
      "Mississippi           0\n",
      "Missouri              1\n",
      "Montana               2\n",
      "Nebraska              2\n",
      "Nevada                0\n",
      "New Hampshire         2\n",
      "New Jersey            1\n",
      "New Mexico            0\n",
      "New York              0\n",
      "North Carolina        0\n",
      "North Dakota          2\n",
      "Ohio                  2\n",
      "Oklahoma              1\n",
      "Oregon                1\n",
      "Pennsylvania          2\n",
      "Rhode Island          1\n",
      "South Carolina        0\n",
      "South Dakota          2\n",
      "Tennessee             1\n",
      "Texas                 1\n",
      "Utah                  2\n",
      "Vermont               2\n",
      "Virginia              1\n",
      "Washington            1\n",
      "West Virginia         2\n",
      "Wisconsin             2\n",
      "Wyoming               1\n"
     ]
    }
   ],
   "source": [
    "# Cut tree with three clusters\n",
    "clusters_3 = cut_tree(hc_usarrests, n_clusters=3)\n",
    "\n",
    "# Display which states belong to which clusters\n",
    "clusters_3_df = pd.DataFrame(clusters_3, index=states, columns=['Cluster'])\n",
    "print(clusters_3_df)"
   ]
  },
  {
   "cell_type": "markdown",
   "metadata": {},
   "source": [
    "Now we repeat these steps using scaled data:"
   ]
  },
  {
   "cell_type": "code",
   "execution_count": 16,
   "metadata": {},
   "outputs": [
    {
     "data": {
      "image/png": "[encoded data removed]",
      "text/plain": [
       "<Figure size 1800x720 with 1 Axes>"
      ]
     },
     "metadata": {
      "needs_background": "light"
     },
     "output_type": "display_data"
    }
   ],
   "source": [
    "# Perform hierarchical clustering on scaled data\n",
    "hc_usarrests_scaled = linkage(X, method='complete', metric='euclidean')\n",
    "\n",
    "# Plot dedrogram\n",
    "states = data_usarrests.index.get_values()\n",
    "\n",
    "plt.figure(figsize=(25, 10))\n",
    "plt.title('Hierarchical clustering with complete linkage and euclidean distance - SCALED DATA', size=25)\n",
    "plt.xlabel('city', size=20)\n",
    "plt.ylabel('distance', size=20)\n",
    "dendrogram(hc_usarrests_scaled,leaf_rotation=90., leaf_font_size=15, labels=states)\n",
    "plt.show()\n",
    "\n",
    "# Cut tree with three clusters\n",
    "clusters_3_scaled = cut_tree(hc_usarrests_scaled, n_clusters=3)"
   ]
  },
  {
   "cell_type": "code",
   "execution_count": 17,
   "metadata": {},
   "outputs": [
    {
     "name": "stdout",
     "output_type": "stream",
     "text": [
      "                Non-scaled cluster  Scaled cluster\n",
      "Alabama                          0               0\n",
      "Alaska                           0               0\n",
      "Arizona                          0               1\n",
      "Arkansas                         1               2\n",
      "California                       0               1\n",
      "Colorado                         1               1\n",
      "Connecticut                      2               2\n",
      "Delaware                         0               2\n",
      "Florida                          0               1\n",
      "Georgia                          1               0\n",
      "Hawaii                           2               2\n",
      "Idaho                            2               2\n",
      "Illinois                         0               1\n",
      "Indiana                          2               2\n",
      "Iowa                             2               2\n",
      "Kansas                           2               2\n",
      "Kentucky                         2               2\n",
      "Louisiana                        0               0\n",
      "Maine                            2               2\n",
      "Maryland                         0               1\n",
      "Massachusetts                    1               2\n",
      "Michigan                         0               1\n",
      "Minnesota                        2               2\n",
      "Mississippi                      0               0\n",
      "Missouri                         1               2\n",
      "Montana                          2               2\n",
      "Nebraska                         2               2\n",
      "Nevada                           0               1\n",
      "New Hampshire                    2               2\n",
      "New Jersey                       1               2\n",
      "New Mexico                       0               1\n",
      "New York                         0               1\n",
      "North Carolina                   0               0\n",
      "North Dakota                     2               2\n",
      "Ohio                             2               2\n",
      "Oklahoma                         1               2\n",
      "Oregon                           1               2\n",
      "Pennsylvania                     2               2\n",
      "Rhode Island                     1               2\n",
      "South Carolina                   0               0\n",
      "South Dakota                     2               2\n",
      "Tennessee                        1               0\n",
      "Texas                            1               1\n",
      "Utah                             2               2\n",
      "Vermont                          2               2\n",
      "Virginia                         1               2\n",
      "Washington                       1               2\n",
      "West Virginia                    2               2\n",
      "Wisconsin                        2               2\n",
      "Wyoming                          1               2\n"
     ]
    }
   ],
   "source": [
    "# Display which states belong to which clusters, comparing scaled and non-scaled data\n",
    "clusters = np.append(clusters_3, clusters_3_scaled, axis=1)\n",
    "\n",
    "clusters_3_df = pd.DataFrame(clusters,\n",
    "                             index = states,\n",
    "                             columns = ['Non-scaled cluster', 'Scaled cluster']\n",
    "                             )\n",
    "\n",
    "print(clusters_3_df)"
   ]
  },
  {
   "cell_type": "markdown",
   "metadata": {},
   "source": [
    "- Scaling the data affects the results a lot. Non-scaled data makes data more similar, because...\n",
    "- The data have different scales, if not the choice of units with greatly affect the data \n",
    "\n",
    "\n",
    "Interpretation: \n",
    "\n",
    "Book says: The earlier (lower in the tree) fusions occur, the more similar the groups of observations are to each other. On the other hand, observations that fuse later (near the top of the tree) can be quite different.\n",
    "\n",
    "Thus, observations that fuse at the very bottom of the tree are quite similar to each other, whereas observations that fuse close to the top of the tree will tend to be quite different\n",
    "\n",
    "Rather, we draw conclusions about the similarity of two observations based on the location on the vertical axis where branches containing those two observations first are fused.\n",
    "\n",
    "In addition to carefully selecting the dissimilarity measure used, one must\n",
    "also consider whether or not the variables should be scaled to have standard\n",
    "deviation one before the dissimilarity between the observations is\n",
    "computed. To illustrate this point, we continue with the online shopping\n",
    "example just described. Some items may be purchased more frequently than\n",
    "others; for instance, a shopper might buy ten pairs of socks a year, but a\n",
    "computer very rarely. High-frequency purchases like socks therefore tend\n",
    "to have a much larger effect on the inter-shopper dissimilarities, and hence\n",
    "on the clustering ultimately obtained, than rare purchases like computers.\n",
    "This may not be desirable. If the variables are scaled to have standard deviation\n",
    "one before the inter-observation dissimilarities are computed, then\n",
    "each variable will in effect be given equal importance in the hierarchical\n",
    "clustering performed. We might also want to scale the variables to have\n",
    "standard deviation one if they are measured on different scales; otherwise,\n",
    "the choice of units (e.g. centimeters versus kilometers) for a particular variable\n",
    "will greatly affect the dissimilarity measure obtained. It should come\n",
    "as no surprise that whether or not it is a good decision to scale the variables\n",
    "before computing the dissimilarity measure depends on the application at\n",
    "hand. An example is shown in Figure 10.14. "
   ]
  },
  {
   "cell_type": "markdown",
   "metadata": {},
   "source": [
    "### Exercise 10"
   ]
  },
  {
   "cell_type": "markdown",
   "metadata": {},
   "source": [
    "In this problem, you will generate simulated data, and then perform PCA and K-means clustering on the data.\n",
    "\n",
    "- (a) Generate a simulated data set with 20 observations in each of three classes (i.e. 60 observations total), and 50 variables. Hint: There are a number of functions in R that you can use to generate data. One example is the rnorm() function; runif() is another option. Be sure to add a mean shift to the observations in each class so that there are three distinct classes.\n",
    "\n",
    "- (b) Perform PCA on the 60 observations and plot the first two principal component score vectors. Use a different color to indicate the observations in each of the three classes. If the three classes appear separated in this plot, then continue on to part (c). If not, then return to part (a) and modify the simulation so that there is greater separation between the three classes. Do not continue to part (c) until the three classes show at least some separation in the first two principal component score vectors.\n",
    "\n",
    "- (c) Perform K-means clustering of the observations with K = 3. How well do the clusters that you obtained in K-means clustering compare to the true class labels? Hint: You can use the table() function in R to compare the true class labels to the class labels obtained by clustering. Be careful how you interpret the results: K-means clustering will arbitrarily number the clusters, so you cannot simply check whether the true class labels and clustering labels are the same.\n",
    "\n",
    "- (d) Perform K-means clustering with K = 2. Describe your results.\n",
    "\n",
    "- (e) Now perform K-means clustering with K = 4, and describe your results.\n",
    "\n",
    "- (f) Now perform K-means clustering with K = 3 on the first two principal component score vectors, rather than on the raw data. That is, perform K-means clustering on the 60 × 2 matrix of which the first column is the first principal component score vector, and the second column is the second principal component score vector. Comment on the results.\n",
    "\n",
    "- (g) Using the scale() function, perform K-means clustering with K = 3 on the data after scaling each variable to have standard deviation one. How do these results compare to those obtained in (b)? Explain."
   ]
  },
  {
   "cell_type": "markdown",
   "metadata": {},
   "source": [
    "#### Answer"
   ]
  },
  {
   "cell_type": "markdown",
   "metadata": {},
   "source": [
    "(a) Let's generate the simulated data:"
   ]
  },
  {
   "cell_type": "code",
   "execution_count": 18,
   "metadata": {},
   "outputs": [],
   "source": [
    "import random"
   ]
  },
  {
   "cell_type": "code",
   "execution_count": 58,
   "metadata": {},
   "outputs": [
    {
     "name": "stdout",
     "output_type": "stream",
     "text": [
      "(60, 50)\n",
      "[[ 3.4359949  -3.97407377  0.54966248 ...  0.77655918  0.53560417\n",
      "   0.95374223]\n",
      " [ 3.54420816 -3.91790508  0.3663424  ...  0.66148133  0.17047713\n",
      "   0.88165224]\n",
      " [ 3.77800816 -3.86604579  0.86891663 ...  0.03124756  0.22957403\n",
      "   0.7046275 ]\n",
      " ...\n",
      " [-6.64671961  6.6650456   0.21303391 ...  0.69897959  0.46109385\n",
      "   0.4308646 ]\n",
      " [-6.95694254  6.2914093   0.87812068 ...  0.74090008  0.04975847\n",
      "   0.81190976]\n",
      " [-6.74165151  6.5099996   0.89081362 ...  0.68773884  0.79638825\n",
      "   0.58194254]]\n"
     ]
    }
   ],
   "source": [
    "# Set seed to obtain the same results each time\n",
    "random.seed(2)\n",
    "\n",
    "# Create matrix of random numbers with nomal distribution\n",
    "np.random.seed(2)\n",
    "X_2 = np.random.rand(60,50)\n",
    "\n",
    "# Create first class\n",
    "X_2[0:20,0] = X_2[0:20,0] + 3\n",
    "X_2[0:20,1] = X_2[0:20,1] - 4\n",
    "\n",
    "# Create second class\n",
    "X_2[20:40,0] = X_2[20:40,0] - 10\n",
    "X_2[20:40,1] = X_2[20:40,1] - 2\n",
    "\n",
    "# Create third class\n",
    "X_2[40:60,0] = X_2[40:60,0] - 7\n",
    "X_2[40:60,1] = X_2[40:60,1] + 6\n",
    "\n",
    "# Print resulting matrix\n",
    "print(np.shape(X_2))\n",
    "print(X_2)"
   ]
  },
  {
   "cell_type": "markdown",
   "metadata": {},
   "source": [
    "(b) Let's perform PCA and plot its score vectors:"
   ]
  },
  {
   "cell_type": "code",
   "execution_count": 59,
   "metadata": {},
   "outputs": [],
   "source": [
    "import seaborn as sns"
   ]
  },
  {
   "cell_type": "code",
   "execution_count": 60,
   "metadata": {},
   "outputs": [
    {
     "data": {
      "text/plain": [
       "<matplotlib.axes._subplots.AxesSubplot at 0x11cc2e0b8>"
      ]
     },
     "execution_count": 60,
     "metadata": {},
     "output_type": "execute_result"
    },
    {
     "data": {
      "image/png": "[encoded data removed]",
      "text/plain": [
       "<Figure size 432x288 with 1 Axes>"
      ]
     },
     "metadata": {
      "needs_background": "light"
     },
     "output_type": "display_data"
    }
   ],
   "source": [
    "# Compute PCA\n",
    "pca = PCA()\n",
    "pca_score_vectors_2 = pca.fit_transform(X_2)\n",
    "\n",
    "# Transform data into a dataframe\n",
    "columns_pca_2 = ['PCA_' + str(pca +1) for pca in range(0, np.shape(pca_score_vectors_2)[1])]\n",
    "pca_score_vectors_df_2 = pd.DataFrame(pca_score_vectors_2, columns=columns_pca_2)\n",
    "\n",
    "# Define labels for classes\n",
    "class_1 = ['class 1']* 20\n",
    "class_2 = ['class 2']* 20\n",
    "class_3 = ['class 3']* 20\n",
    "labels = class_1 + class_2 + class_3\n",
    "\n",
    "# Plot\n",
    "sns.scatterplot(pca_score_vectors_df_2.iloc[:,0], pca_score_vectors_df_2.iloc[:,1], hue=labels)"
   ]
  },
  {
   "cell_type": "markdown",
   "metadata": {},
   "source": [
    "(c) Let's perform K-means clustering of the observations with K = 3."
   ]
  },
  {
   "cell_type": "code",
   "execution_count": 61,
   "metadata": {},
   "outputs": [],
   "source": [
    "from sklearn.cluster import KMeans"
   ]
  },
  {
   "cell_type": "code",
   "execution_count": 62,
   "metadata": {},
   "outputs": [],
   "source": [
    "# Compute k-means\n",
    "kmeans = KMeans(n_clusters=3, n_init=20)\n",
    "kmeans.fit(X_2)\n",
    "kmeans_labels = (kmeans.labels_).tolist()"
   ]
  },
  {
   "cell_type": "markdown",
   "metadata": {},
   "source": [
    "Let's compare the real class labels with those found by k-means:"
   ]
  },
  {
   "cell_type": "code",
   "execution_count": 63,
   "metadata": {},
   "outputs": [
    {
     "name": "stdout",
     "output_type": "stream",
     "text": [
      "   Real labels  K-means labels\n",
      "0      class 1               1\n",
      "1      class 1               1\n",
      "2      class 1               1\n",
      "3      class 1               1\n",
      "4      class 1               1\n",
      "5      class 1               1\n",
      "6      class 1               1\n",
      "7      class 1               1\n",
      "8      class 1               1\n",
      "9      class 1               1\n",
      "10     class 1               1\n",
      "11     class 1               1\n",
      "12     class 1               1\n",
      "13     class 1               1\n",
      "14     class 1               1\n",
      "15     class 1               1\n",
      "16     class 1               1\n",
      "17     class 1               1\n",
      "18     class 1               1\n",
      "19     class 1               1\n",
      "20     class 2               2\n",
      "21     class 2               2\n",
      "22     class 2               2\n",
      "23     class 2               2\n",
      "24     class 2               2\n",
      "25     class 2               2\n",
      "26     class 2               2\n",
      "27     class 2               2\n",
      "28     class 2               2\n",
      "29     class 2               2\n",
      "30     class 2               2\n",
      "31     class 2               2\n",
      "32     class 2               2\n",
      "33     class 2               2\n",
      "34     class 2               2\n",
      "35     class 2               2\n",
      "36     class 2               2\n",
      "37     class 2               2\n",
      "38     class 2               2\n",
      "39     class 2               2\n",
      "40     class 3               0\n",
      "41     class 3               0\n",
      "42     class 3               0\n",
      "43     class 3               0\n",
      "44     class 3               0\n",
      "45     class 3               0\n",
      "46     class 3               0\n",
      "47     class 3               0\n",
      "48     class 3               0\n",
      "49     class 3               0\n",
      "50     class 3               0\n",
      "51     class 3               0\n",
      "52     class 3               0\n",
      "53     class 3               0\n",
      "54     class 3               0\n",
      "55     class 3               0\n",
      "56     class 3               0\n",
      "57     class 3               0\n",
      "58     class 3               0\n",
      "59     class 3               0\n"
     ]
    }
   ],
   "source": [
    "# Create data-frame with both labels\n",
    "labels_df = pd.DataFrame({'Real labels': labels, 'K-means labels': kmeans_labels})\n",
    "print(labels_df)"
   ]
  },
  {
   "cell_type": "markdown",
   "metadata": {},
   "source": [
    "As shown, K-means found the real clusters in the data"
   ]
  },
  {
   "cell_type": "markdown",
   "metadata": {},
   "source": [
    "(d) Let's perform K-means clustering with K = 2: "
   ]
  },
  {
   "cell_type": "code",
   "execution_count": 64,
   "metadata": {},
   "outputs": [
    {
     "data": {
      "text/plain": [
       "<matplotlib.axes._subplots.AxesSubplot at 0x11cce9470>"
      ]
     },
     "execution_count": 64,
     "metadata": {},
     "output_type": "execute_result"
    },
    {
     "data": {
      "image/png": "[encoded data removed]",
      "text/plain": [
       "<Figure size 432x288 with 1 Axes>"
      ]
     },
     "metadata": {
      "needs_background": "light"
     },
     "output_type": "display_data"
    }
   ],
   "source": [
    "# Compute k-means\n",
    "kmeans = KMeans(n_clusters=2, n_init=20)\n",
    "kmeans.fit(X_2)\n",
    "kmeans_labels = (kmeans.labels_).tolist()\n",
    "\n",
    "# Plot\n",
    "sns.scatterplot(pca_score_vectors_df_2.iloc[:,0], pca_score_vectors_df_2.iloc[:,1], hue=kmeans_labels)"
   ]
  },
  {
   "cell_type": "markdown",
   "metadata": {},
   "source": [
    "Setting k=2 produces a cluster that merges two classes. It appears two merge the two classes more similar between each other."
   ]
  },
  {
   "cell_type": "markdown",
   "metadata": {},
   "source": [
    "(e) Let's repeat the process with K=4:"
   ]
  },
  {
   "cell_type": "code",
   "execution_count": 65,
   "metadata": {},
   "outputs": [
    {
     "data": {
      "text/plain": [
       "<matplotlib.axes._subplots.AxesSubplot at 0x11cdc64e0>"
      ]
     },
     "execution_count": 65,
     "metadata": {},
     "output_type": "execute_result"
    },
    {
     "data": {
      "image/png": "[encoded data removed]",
      "text/plain": [
       "<Figure size 432x288 with 1 Axes>"
      ]
     },
     "metadata": {
      "needs_background": "light"
     },
     "output_type": "display_data"
    }
   ],
   "source": [
    "# Compute k-means\n",
    "kmeans = KMeans(n_clusters=4, n_init=20)\n",
    "kmeans.fit(X_2)\n",
    "kmeans_labels = (kmeans.labels_).tolist()\n",
    "\n",
    "# Plot\n",
    "sns.scatterplot(pca_score_vectors_df_2.iloc[:,0], pca_score_vectors_df_2.iloc[:,1], hue=kmeans_labels)"
   ]
  },
  {
   "cell_type": "markdown",
   "metadata": {},
   "source": [
    "Setting k=3 produces one of classes to be divided into two clusters"
   ]
  },
  {
   "cell_type": "markdown",
   "metadata": {},
   "source": [
    "(f) Let's perform K-means clustering with K = 3 on the first two principal component score vectors. So we will perform K-means clustering on the 60 × 2 matrix of which the first column is the first principal component score vector, and the second column is the second principal component score vector. \n",
    "\n",
    "Let's start by examining the pca_score vectors."
   ]
  },
  {
   "cell_type": "code",
   "execution_count": 66,
   "metadata": {},
   "outputs": [
    {
     "name": "stdout",
     "output_type": "stream",
     "text": [
      "       PCA_1     PCA_2     PCA_3     PCA_4     PCA_5     PCA_6     PCA_7  \\\n",
      "0   8.806262 -0.264602 -0.180437  0.862708 -0.163237 -0.018574 -0.102448   \n",
      "1   8.878458 -0.334055 -0.489430  0.188267  0.686345 -0.362285 -0.593761   \n",
      "2   9.037772 -0.549288  0.243104  0.416549  0.607623 -0.034772  0.243417   \n",
      "3   8.523574 -0.087144 -0.236466  0.514329  0.438467 -0.067272 -0.633600   \n",
      "4   8.610465 -0.710477  0.531189  0.791694  0.235798  0.376501  0.511937   \n",
      "5   8.121099 -0.797138 -0.862601 -0.179509 -0.073895 -0.024489 -0.688403   \n",
      "6   8.285449 -0.334044 -0.747281  0.019075 -0.115122 -0.116243  1.036160   \n",
      "7   8.740754 -0.605663  0.658448 -0.875953 -0.171060 -0.245329  0.400721   \n",
      "8   8.338009 -0.580968 -0.137982 -0.511022 -0.242367 -0.070949  0.396140   \n",
      "9   8.303129 -0.416673  0.451830  0.527812  0.088743 -0.040196 -0.574642   \n",
      "10  8.570349 -0.354987  1.106413  0.319607 -0.355834 -0.239951  0.259291   \n",
      "11  8.345976 -0.405721  0.683384 -0.169194  0.880026  0.474375  0.071846   \n",
      "12  8.651047 -0.275506  0.123158  0.411139  0.664636  0.023063 -0.159703   \n",
      "13  8.462175 -0.852114  0.066497 -0.064222 -0.284198 -0.393110 -0.557222   \n",
      "14  8.360189 -0.168085 -0.931517 -0.361581 -0.398146  0.169044 -0.219546   \n",
      "15  9.036707 -0.891845 -0.005233 -0.949373 -0.420230  0.572072 -0.062686   \n",
      "16  8.813611 -0.695101 -0.218724 -0.865388  0.061834 -0.138696 -0.239523   \n",
      "17  8.438735 -1.054559 -0.872357 -0.344036 -0.596489  0.039155 -0.080590   \n",
      "18  8.338778 -1.053273  0.463341  0.427504 -0.314862 -0.105179  0.578161   \n",
      "19  8.736645 -0.851555  0.278567 -0.182369 -0.511983  0.349080  0.363816   \n",
      "20 -3.399460  4.348154  0.520915 -0.791407  0.549743  0.221274 -0.113503   \n",
      "21 -3.860656  4.644517 -0.091123 -0.576446  0.590008  0.589684  0.161978   \n",
      "22 -3.146163  4.204225  0.461987  1.047805  0.152864 -0.137307  0.564849   \n",
      "23 -3.021913  4.541334 -0.155820 -0.188277 -0.536417 -0.238669  0.164269   \n",
      "24 -3.053328  4.569264 -0.717571  0.342284 -0.109194  0.140201  0.118038   \n",
      "25 -3.079982  4.698976 -0.230453 -0.823594  0.776437 -1.395474  0.513778   \n",
      "26 -3.345877  4.008589 -0.294326  0.777067  0.462365  0.211969  0.484172   \n",
      "27 -3.464895  4.860766  0.067227  1.090409 -0.026022 -0.381613 -0.489920   \n",
      "28 -3.670081  5.130684  0.833007 -0.643979 -0.321152 -0.962901 -0.184657   \n",
      "29 -3.161846  4.107648 -0.388633 -0.032832  0.316517  0.543423  0.299776   \n",
      "30 -3.436435  4.935094 -0.850337  0.162019 -0.366297  0.296785 -0.142767   \n",
      "31 -3.227838  4.279007 -0.421874 -0.044536 -0.225906 -0.299586  0.363463   \n",
      "32 -3.470827  4.935840  0.128955  0.006723 -0.753811  0.290190 -0.610236   \n",
      "33 -3.690950  4.355076  0.456902  0.071274 -0.077953 -0.249758  0.566060   \n",
      "34 -3.421867  4.600452  0.628619  0.287906 -0.604064 -0.343975 -0.401978   \n",
      "35 -2.967027  4.477943 -0.324227 -0.691201  0.510406 -0.041424 -0.969272   \n",
      "36 -4.037408  4.440470  0.239456 -0.151794  0.038595  1.132428 -0.272417   \n",
      "37 -4.123196  4.282666 -0.505080 -0.174412  0.330962  0.342529  0.159197   \n",
      "38 -3.260566  4.942907  0.046901  0.855329 -0.532887  0.103717  0.338813   \n",
      "39 -3.691157  4.114348  0.598085 -0.675188 -0.333148  0.242633 -0.294837   \n",
      "40 -4.880136 -3.887024  1.048738 -0.142477 -0.548168 -0.317809  0.208706   \n",
      "41 -5.220654 -4.348995 -1.081076  0.393010 -0.611870 -0.119851 -0.038386   \n",
      "42 -4.907834 -4.301717  0.131136  0.121411  0.126091  0.598450  0.326867   \n",
      "43 -5.443782 -3.490715 -0.124792  0.408557  0.748862  0.083040 -1.034601   \n",
      "44 -5.446624 -3.911712 -0.179401 -0.553217 -0.341766  0.308884  0.611510   \n",
      "45 -5.010381 -4.470467 -0.542140 -0.001917 -0.449180 -0.795630  0.404824   \n",
      "46 -5.148129 -3.722218 -0.052819 -0.375839  0.339124  0.129945  0.468168   \n",
      "47 -5.215189 -3.422927  0.295762  0.152359  0.440818  0.480331 -0.290591   \n",
      "48 -5.255123 -3.760244 -0.182779  0.390540 -0.423302 -0.580199  0.254701   \n",
      "49 -4.609945 -3.993206 -0.022403 -0.284456  0.242222 -0.203522 -0.028627   \n",
      "50 -5.726312 -4.030706 -0.113416 -0.050938 -0.109256  1.509322 -0.069421   \n",
      "51 -4.637693 -3.898807  1.001490  0.060114  0.035406  0.024916 -0.608606   \n",
      "52 -4.892675 -4.088752  0.111812  0.370679 -0.017964  0.921775  0.469675   \n",
      "53 -4.999300 -4.205932  0.602278  0.244789 -0.514699 -0.056255 -0.455218   \n",
      "54 -5.071833 -3.894966 -0.477155  0.569606 -0.651614 -0.535674 -0.418017   \n",
      "55 -5.220591 -3.854539 -0.072939  0.261512  0.312389 -0.668018 -0.442172   \n",
      "56 -4.996342 -4.589060  0.340526 -0.450894  0.737554 -0.560336 -0.009460   \n",
      "57 -5.384908 -3.980651  0.077870 -0.727243 -0.837650  0.165558 -0.500101   \n",
      "58 -5.439004 -3.508436 -0.437121  0.060110  1.241495 -0.386114  0.146134   \n",
      "59 -5.361254 -3.834092 -0.250081 -0.268894  0.424413 -0.209186  0.800444   \n",
      "\n",
      "       PCA_8     PCA_9    PCA_10  ...    PCA_41    PCA_42    PCA_43    PCA_44  \\\n",
      "0  -0.622012 -0.167659  0.549339  ... -0.016139  0.057270 -0.074101 -0.222328   \n",
      "1  -0.078601 -0.023718 -0.803109  ...  0.228699 -0.047509  0.054336 -0.101688   \n",
      "2  -0.602189  0.030511  0.475833  ...  0.001986 -0.084684  0.080918  0.060112   \n",
      "3   0.261795 -0.071980  0.736379  ... -0.063013  0.040447  0.144065  0.051897   \n",
      "4   0.341571 -0.433775 -0.379026  ...  0.087517 -0.039248 -0.055542  0.089452   \n",
      "5   0.356051 -0.703356  0.568380  ...  0.037145 -0.103154  0.058338  0.046613   \n",
      "6  -0.379801 -0.028913 -0.386605  ... -0.124174  0.252380  0.011088 -0.022540   \n",
      "7  -0.685200  0.092889 -0.052239  ... -0.044690  0.153786 -0.072929 -0.017170   \n",
      "8   0.739253  0.131420  0.235738  ... -0.016286 -0.063634  0.009847  0.007961   \n",
      "9  -0.147152 -0.713516 -0.375939  ... -0.196857  0.122360  0.146349  0.072693   \n",
      "10 -0.493748 -0.181225 -0.394663  ...  0.150545 -0.025251 -0.004367  0.060134   \n",
      "11  0.697740  0.261331  0.144632  ... -0.162389  0.070033 -0.067285 -0.096124   \n",
      "12 -0.009107  0.717003  0.285054  ...  0.078564 -0.067866 -0.062806  0.050473   \n",
      "13 -0.627224  0.153708  0.726882  ... -0.079014 -0.016746 -0.025281 -0.032976   \n",
      "14  0.565947  0.194332 -0.495174  ... -0.089854  0.018274  0.181092  0.045730   \n",
      "15  0.722704 -0.048828 -0.459186  ... -0.103353 -0.117514 -0.151218  0.087778   \n",
      "16 -0.062749  0.050820  0.133645  ...  0.175434  0.095634  0.043528  0.044027   \n",
      "17 -0.420765  0.436661 -0.334099  ... -0.102495 -0.228041 -0.112619 -0.082032   \n",
      "18  0.071731 -0.193724 -0.491785  ... -0.016579 -0.069688 -0.061666 -0.005579   \n",
      "19  0.239896  0.374269  0.387707  ...  0.232876  0.085161 -0.025117 -0.041897   \n",
      "20 -0.075513 -0.137170 -0.583141  ...  0.003889 -0.132108  0.024006  0.144727   \n",
      "21 -0.613915 -0.341600  0.383086  ...  0.021238  0.020303 -0.067246  0.034559   \n",
      "22  0.483620  0.636586 -0.273060  ...  0.051677 -0.106162 -0.057696  0.029047   \n",
      "23 -0.465525 -0.234936 -0.671633  ... -0.018296 -0.086097 -0.015202  0.090771   \n",
      "24  0.892495  0.441223  0.261210  ...  0.018102  0.016270 -0.129210 -0.159562   \n",
      "25  0.723693 -0.298787 -0.070528  ...  0.089611  0.090690 -0.077278  0.011592   \n",
      "26  0.179932  0.109329 -0.260847  ... -0.256959  0.010180 -0.063932  0.043813   \n",
      "27  0.223629 -0.578687  0.409969  ... -0.012944 -0.091209 -0.012605  0.003697   \n",
      "28 -0.114242  0.214827  0.668115  ... -0.111363  0.075136  0.132611 -0.060247   \n",
      "29  0.099008  0.145872  0.643427  ...  0.017974 -0.063729  0.035079 -0.014664   \n",
      "30 -0.725171  0.073214 -0.047783  ...  0.061278 -0.042832  0.088459  0.062554   \n",
      "31  0.108083 -0.525272  0.217789  ...  0.270113 -0.234985  0.064826 -0.033205   \n",
      "32  0.697632  0.501931 -0.137710  ... -0.007156  0.153795  0.006940  0.041299   \n",
      "33 -0.442908  1.061423 -0.331754  ...  0.102421 -0.029260  0.176824 -0.197470   \n",
      "34  0.499644 -0.048630  0.104245  ...  0.072865  0.082849  0.112682 -0.010724   \n",
      "35  0.082513  0.563964 -0.378713  ... -0.131249  0.006399 -0.011589 -0.130016   \n",
      "36 -0.380725 -0.373166 -0.020266  ...  0.096085 -0.009312 -0.151484  0.047550   \n",
      "37 -0.348856 -0.738464 -0.602751  ... -0.186677  0.147822  0.004695 -0.057669   \n",
      "38 -0.488144 -0.288849  0.217802  ... -0.116973  0.048031  0.031243  0.093925   \n",
      "39 -0.238777 -0.151679  0.284653  ...  0.088035  0.068360 -0.148059  0.053944   \n",
      "40 -0.147965  0.226457  0.304474  ... -0.125504 -0.144829  0.129791 -0.075588   \n",
      "41 -0.488768  1.141290 -0.085621  ...  0.134430  0.030185  0.058088  0.324972   \n",
      "42  0.928403  0.093234 -0.588694  ...  0.103480  0.081253  0.272482 -0.084893   \n",
      "43 -0.458071  0.253525 -0.468424  ...  0.173774  0.122323  0.025564 -0.045828   \n",
      "44 -0.243348  0.435540  0.576849  ... -0.048707  0.179667  0.036071  0.001304   \n",
      "45  0.057003 -0.596630  0.255523  ...  0.107266  0.143781 -0.174649 -0.041014   \n",
      "46 -0.562203  0.265281 -0.367405  ... -0.171131 -0.121024  0.042299  0.004389   \n",
      "47  0.298767  0.278166  0.851346  ... -0.057123  0.055100 -0.050862  0.168387   \n",
      "48  0.226248 -0.392800 -0.085863  ... -0.032498  0.015054  0.002494 -0.061504   \n",
      "49  0.211680  0.398334  0.052494  ...  0.051080  0.079484 -0.058098  0.063978   \n",
      "50 -0.321998 -0.467619  0.103285  ...  0.227155  0.056733 -0.012789 -0.224959   \n",
      "51  0.080347 -0.164089 -0.399829  ...  0.015901  0.110600  0.002692  0.113859   \n",
      "52  0.182795 -0.203857  0.134397  ... -0.137511 -0.074301  0.080944 -0.051290   \n",
      "53  0.189171  0.502718 -0.260659  ... -0.011031 -0.105395 -0.262939 -0.015771   \n",
      "54  0.248805 -0.185506 -0.144152  ... -0.099280 -0.017347 -0.136574 -0.059783   \n",
      "55 -0.234419 -0.272138 -0.562348  ... -0.034844  0.134602 -0.070804 -0.031201   \n",
      "56 -0.285989 -0.248333 -0.056324  ...  0.100144 -0.210012  0.025008 -0.067060   \n",
      "57  0.145393 -0.586760  0.120033  ... -0.162067 -0.184591  0.122235 -0.044051   \n",
      "58 -0.183553  0.403685  0.391713  ... -0.168074 -0.109195 -0.041704  0.004464   \n",
      "59  0.393089 -0.787876  0.345331  ...  0.104949  0.001762  0.051056  0.133129   \n",
      "\n",
      "      PCA_45    PCA_46    PCA_47    PCA_48    PCA_49    PCA_50  \n",
      "0  -0.005290  0.255780  0.123869 -0.080721 -0.072405  0.021403  \n",
      "1   0.051621  0.003478  0.009263  0.043216  0.006487 -0.027257  \n",
      "2  -0.134041 -0.153327 -0.003457  0.014176 -0.041190  0.038061  \n",
      "3   0.100930 -0.026065  0.040579  0.049915  0.001075 -0.011541  \n",
      "4   0.050914 -0.069026 -0.120887 -0.015111 -0.044763 -0.003568  \n",
      "5   0.073240 -0.168756  0.097415 -0.047359  0.047293  0.000778  \n",
      "6   0.107601 -0.062523 -0.033612 -0.028330  0.067515  0.036289  \n",
      "7  -0.138829  0.058803 -0.013310  0.080837  0.055088  0.018029  \n",
      "8   0.100147  0.090593  0.115048  0.048290  0.008480 -0.004892  \n",
      "9   0.028515  0.025704 -0.086899  0.060220 -0.051119  0.014543  \n",
      "10  0.037497  0.019742  0.090394 -0.045073  0.045037 -0.042296  \n",
      "11 -0.085116  0.041779 -0.055807  0.032491  0.041540 -0.036046  \n",
      "12 -0.107218 -0.003887 -0.012431 -0.046984  0.027372  0.024709  \n",
      "13 -0.055803 -0.110408 -0.016538 -0.037681 -0.041880 -0.006769  \n",
      "14 -0.112237  0.037634 -0.016482  0.025995 -0.007084 -0.020802  \n",
      "15 -0.009013  0.051857 -0.058223 -0.019803 -0.000021  0.027408  \n",
      "16  0.044956  0.108573 -0.066507 -0.012679 -0.047164 -0.016614  \n",
      "17 -0.095988 -0.032465 -0.003425 -0.026581  0.011111 -0.030547  \n",
      "18  0.009229  0.012788  0.085745 -0.061534  0.001660 -0.023677  \n",
      "19  0.147654 -0.088577 -0.061477  0.063941 -0.000771  0.037730  \n",
      "20  0.087388  0.071044  0.090158 -0.010884 -0.027734 -0.007011  \n",
      "21 -0.008052  0.010760 -0.098916 -0.092891 -0.086837 -0.042775  \n",
      "22 -0.100674  0.029579 -0.018979 -0.062997  0.023801  0.021818  \n",
      "23  0.069072 -0.119094  0.018489  0.051260 -0.049804 -0.002246  \n",
      "24  0.006519 -0.056088 -0.057321  0.052152 -0.004307 -0.010019  \n",
      "25 -0.122163  0.002274  0.021061 -0.064164 -0.088222  0.068554  \n",
      "26  0.152864 -0.066336  0.047138  0.014939 -0.043797  0.022126  \n",
      "27  0.061433  0.096299  0.031271  0.126659 -0.012104  0.018572  \n",
      "28 -0.144320 -0.172520 -0.007835  0.001138 -0.011640 -0.043644  \n",
      "29 -0.041248 -0.017270  0.084509 -0.038975  0.056170 -0.018780  \n",
      "30 -0.041990 -0.055417 -0.066238  0.085681  0.036313  0.024552  \n",
      "31 -0.073092  0.043195 -0.088206 -0.056088  0.079058  0.007129  \n",
      "32 -0.086942 -0.013114  0.073571 -0.070862 -0.012389 -0.000107  \n",
      "33  0.070487  0.014010 -0.002028  0.109259 -0.041769  0.020624  \n",
      "34  0.022127 -0.016275  0.065044 -0.031461  0.038277  0.001794  \n",
      "35  0.063401  0.104845 -0.060367  0.020293  0.008282 -0.031346  \n",
      "36 -0.053239 -0.010382  0.151380  0.046758 -0.043454 -0.005018  \n",
      "37  0.055257 -0.035197  0.017844 -0.046341  0.101664  0.004670  \n",
      "38 -0.091951  0.220855 -0.114450  0.000984  0.041011 -0.047654  \n",
      "39  0.203541 -0.053427 -0.091209 -0.042991  0.031180  0.023166  \n",
      "40  0.179332  0.069045 -0.061105 -0.072116  0.005633 -0.004699  \n",
      "41  0.002182  0.074561 -0.005754 -0.032150 -0.033166  0.005265  \n",
      "42 -0.056801 -0.022178  0.006658 -0.046687 -0.025254 -0.015851  \n",
      "43 -0.001103 -0.033601 -0.034007 -0.076460  0.039950 -0.002457  \n",
      "44  0.115990 -0.029094  0.071883 -0.040499 -0.027831 -0.025947  \n",
      "45 -0.115181  0.005836  0.008450  0.084218  0.021894 -0.013007  \n",
      "46 -0.110810 -0.043114  0.132957  0.061249  0.016995  0.007748  \n",
      "47  0.012957  0.002520  0.009336  0.032216  0.058995  0.008328  \n",
      "48  0.055532 -0.023954  0.031749 -0.028036  0.052350 -0.001708  \n",
      "49  0.086483  0.097225  0.033150  0.035253 -0.011395  0.012237  \n",
      "50 -0.060562  0.020030  0.004918  0.031345 -0.016346  0.028957  \n",
      "51 -0.145374  0.003835  0.009816  0.018906  0.049917  0.049891  \n",
      "52 -0.068459 -0.133629 -0.059277 -0.028353 -0.059052 -0.005256  \n",
      "53 -0.002043 -0.081455 -0.018057  0.067879  0.001699 -0.040234  \n",
      "54  0.031518 -0.051519 -0.060430 -0.031704 -0.050964 -0.000932  \n",
      "55 -0.020577 -0.046708  0.025521 -0.026476 -0.040477 -0.023181  \n",
      "56  0.101124 -0.038243 -0.018970  0.007457  0.025406 -0.005217  \n",
      "57 -0.055613  0.118352 -0.028208 -0.006907 -0.017752  0.073725  \n",
      "58  0.046853  0.075162 -0.035853 -0.016839  0.037039  0.025966  \n",
      "59 -0.032634  0.067490 -0.020950  0.079008 -0.027601 -0.072977  \n",
      "\n",
      "[60 rows x 50 columns]\n"
     ]
    }
   ],
   "source": [
    "# Print principal component score vectors\n",
    "print(pca_score_vectors_df_2)"
   ]
  },
  {
   "cell_type": "markdown",
   "metadata": {},
   "source": [
    "Let's compute k-means and plot the results:"
   ]
  },
  {
   "cell_type": "code",
   "execution_count": 70,
   "metadata": {},
   "outputs": [
    {
     "data": {
      "text/plain": [
       "<matplotlib.axes._subplots.AxesSubplot at 0x1a1fa6bc18>"
      ]
     },
     "execution_count": 70,
     "metadata": {},
     "output_type": "execute_result"
    },
    {
     "data": {
      "image/png": "[encoded data removed]",
      "text/plain": [
       "<Figure size 432x288 with 1 Axes>"
      ]
     },
     "metadata": {
      "needs_background": "light"
     },
     "output_type": "display_data"
    }
   ],
   "source": [
    "# Compute k-means\n",
    "kmeans = KMeans(n_clusters=3, n_init=20)\n",
    "kmeans.fit(pca_score_vectors_2[:,:2])\n",
    "kmeans_labels = (kmeans.labels_).tolist()\n",
    "\n",
    "# Plot\n",
    "sns.scatterplot(pca_score_vectors_df_2.iloc[:,0], pca_score_vectors_df_2.iloc[:,1], hue=kmeans_labels)"
   ]
  },
  {
   "cell_type": "markdown",
   "metadata": {},
   "source": [
    "K-means can still distinguish between real classes using pca score vectors"
   ]
  },
  {
   "cell_type": "markdown",
   "metadata": {},
   "source": [
    "(g) Using the scale() function, perform K-means clustering with K = 3 on the data after scaling each variable to have standard deviation one. How do these results compare to those obtained in (b)? Explain."
   ]
  },
  {
   "cell_type": "code",
   "execution_count": 72,
   "metadata": {},
   "outputs": [
    {
     "data": {
      "text/plain": [
       "<matplotlib.axes._subplots.AxesSubplot at 0x1a1fc17470>"
      ]
     },
     "execution_count": 72,
     "metadata": {},
     "output_type": "execute_result"
    },
    {
     "data": {
      "image/png": "[encoded data removed]",
      "text/plain": [
       "<Figure size 432x288 with 1 Axes>"
      ]
     },
     "metadata": {
      "needs_background": "light"
     },
     "output_type": "display_data"
    }
   ],
   "source": [
    "# Standarize data\n",
    "scaler = StandardScaler()\n",
    "X_2_scaled = scaler.fit_transform(X_2)\n",
    "\n",
    "# Compute k-means\n",
    "kmeans = KMeans(n_clusters=3, n_init=20)\n",
    "kmeans.fit(X_2_scaled)\n",
    "kmeans_labels_scaled = (kmeans.labels_).tolist()\n",
    "\n",
    "# Plot\n",
    "sns.scatterplot(pca_score_vectors_df_2.iloc[:,0], pca_score_vectors_df_2.iloc[:,1], hue=kmeans_labels_scaled)"
   ]
  },
  {
   "cell_type": "markdown",
   "metadata": {},
   "source": [
    "######"
   ]
  },
  {
   "cell_type": "markdown",
   "metadata": {},
   "source": [
    "### Exercise 11"
   ]
  },
  {
   "cell_type": "markdown",
   "metadata": {},
   "source": [
    "On the book website, www.StatLearning.com, there is a gene expression data set (Ch10Ex11.csv) that consists of 40 tissue samples with measurements on 1,000 genes. The first 20 samples are from healthy patients, while the second 20 are from a diseased group.\n",
    "\n",
    "- (a) Load in the data using read.csv(). You will need to select header=F.\n",
    "- (b) Apply hierarchical clustering to the samples using correlation based distance, and plot the dendrogram. Do the genes separate the samples into the two groups? Do your results depend on the type of linkage used?\n",
    "- (c) Your collaborator wants to know which genes differ the most across the two groups. Suggest a way to answer this question, and apply it here."
   ]
  },
  {
   "cell_type": "markdown",
   "metadata": {},
   "source": [
    "#### Answer:"
   ]
  },
  {
   "cell_type": "markdown",
   "metadata": {},
   "source": [
    "(a) Let's start by loading the data:"
   ]
  },
  {
   "cell_type": "code",
   "execution_count": 138,
   "metadata": {},
   "outputs": [
    {
     "name": "stdout",
     "output_type": "stream",
     "text": [
      "         0         1         2         3         4         5         6    \\\n",
      "0  -0.961933 -0.292526  0.258788 -1.152132  0.195783  0.030124  0.085418   \n",
      "1   0.441803 -1.139267 -0.972845 -2.213168  0.593306 -0.691014 -1.113054   \n",
      "2  -0.975005  0.195837  0.588486 -0.861525  0.282992 -0.403426 -0.677969   \n",
      "3   1.417504 -1.281121 -0.800258  0.630925  0.247147 -0.729859 -0.562929   \n",
      "4   0.818815 -0.251439 -1.820398  0.951772  1.978668 -0.364099  0.938194   \n",
      "5   0.316294  2.511997 -2.058924 -1.165724 -0.871018  1.125349  0.118809   \n",
      "6  -0.024967 -0.922206 -0.064764 -0.391559 -0.989715 -1.404041 -2.192225   \n",
      "7  -0.063966  0.059543  1.592124  1.063619 -1.032253 -0.806130  0.685073   \n",
      "8   0.031497 -1.409645 -0.173117 -0.350009 -1.109654 -1.237924  0.262304   \n",
      "9  -0.350311 -0.656712 -0.121087 -1.489058 -0.385142  0.577602 -1.229459   \n",
      "10 -0.722730 -0.115765 -0.187579 -0.243219  1.650957 -0.272064 -0.488366   \n",
      "11 -0.281955  0.825978 -1.500163 -0.433034 -1.744909  2.176562 -0.741054   \n",
      "12  1.337515  0.346450 -1.228737 -0.038791 -0.378885  1.436407  0.253504   \n",
      "13  0.701980 -0.569549  0.855989 -0.057897 -0.679826 -1.025781 -0.749054   \n",
      "14  1.007616 -0.131537  1.249855 -1.397762 -2.131584  0.298158  0.854232   \n",
      "15 -0.465383  0.690229 -0.898082 -0.156187 -0.230172 -0.555966  0.354744   \n",
      "16  0.638595 -0.909038  0.870206 -2.735982  0.466124  0.204653  2.651606   \n",
      "17  0.286781  1.302642 -0.225253  0.775617 -1.800449 -1.191648 -0.303511   \n",
      "18 -0.227078 -1.672695  0.450289  0.614156  0.626290  0.235092 -1.686913   \n",
      "19 -0.220045 -0.525504  0.551440  2.019194 -0.097723  0.670965 -0.142455   \n",
      "20 -1.242573  0.797970  0.146294  1.081139 -0.299711  0.130799 -1.155041   \n",
      "21 -0.108506 -0.689793  0.129740 -1.076618 -0.529559  1.068994 -1.663616   \n",
      "22 -1.864262  0.899531  1.304229 -0.243418 -2.023567  1.230987  0.401222   \n",
      "23 -0.500512  0.428581 -1.661908  0.513482 -0.510840  1.134469 -0.424682   \n",
      "24 -1.325008 -0.676114 -1.630376 -0.512858  0.046003  0.556368  1.375743   \n",
      "25  1.063411 -0.534095 -0.077425  2.551676  1.268030 -0.358766 -0.754978   \n",
      "26 -0.296371 -1.732507  1.306182 -2.314301 -0.743987  1.079865 -0.091307   \n",
      "27 -0.121646 -1.603447  0.792600 -1.276470  0.223132 -0.206491  0.078280   \n",
      "28  0.085166 -1.083620  1.559465 -1.229271  0.858463 -0.006165  0.969986   \n",
      "29  0.624176  0.033422 -0.688512  1.434396  0.274726  0.164255  1.052131   \n",
      "30 -0.509591  1.700708 -0.615472 -0.284277 -0.692998  1.156737 -1.706679   \n",
      "31 -0.216726  0.007290  0.009999  0.198946 -0.845707  0.241774 -0.272883   \n",
      "32 -0.055506  0.099062  0.945810 -0.091833 -0.177497  0.088640 -1.767506   \n",
      "33 -0.484449  0.563853 -0.318521  0.349628 -0.166491  0.182954  0.412261   \n",
      "34 -0.521581 -0.257275 -0.117889 -0.298910  1.483155  0.942677  0.707907   \n",
      "35  1.949135 -0.581781  0.621366  1.513696 -1.687946 -0.209600  1.046001   \n",
      "36  1.324335 -0.169887 -0.070764  0.671185 -0.141430  0.536262 -0.275772   \n",
      "37  0.468147 -0.542304  0.401682  0.010855  0.200778 -1.185226 -0.180286   \n",
      "38  1.061100  0.312939 -0.016227 -1.043689 -0.675942 -0.422748  0.335658   \n",
      "39  1.655970 -1.284377 -0.526553  1.625275  2.220611  0.624360 -0.489265   \n",
      "\n",
      "         7         8         9    ...       990       991       992       993  \\\n",
      "0   1.116610 -1.218857  1.267369  ...  1.325041 -0.116171 -1.470146 -0.379272   \n",
      "1   1.341700 -1.277279 -0.918349  ...  0.740838 -0.162392 -0.633375 -0.895521   \n",
      "2   0.103278 -0.558925 -1.253500  ... -0.435533 -0.235912  1.446660 -1.127459   \n",
      "3   0.390963 -1.344493 -1.067114  ... -3.065529  1.597294  0.737478 -0.631248   \n",
      "4  -1.927491  1.159115 -0.240638  ... -2.378938 -0.086946 -0.122342  1.418029   \n",
      "5   0.451692 -1.501044  1.163889  ...  0.101693  1.019600 -0.553600  0.731371   \n",
      "6  -1.345070 -0.554120  0.565089  ...  0.263076  0.583638  1.779488  0.636580   \n",
      "7   0.625336  0.691499  0.949329  ... -0.603931 -0.581503 -0.346134 -0.083600   \n",
      "8   0.816305 -0.881673  2.372266  ... -0.427227 -0.127644  1.196953  1.078757   \n",
      "9  -0.358081  0.454120  1.706587  ... -0.205602 -0.105960 -0.181468 -0.539269   \n",
      "10 -0.304619  0.195527  1.576088  ... -0.189856 -0.016484  0.175246  0.097714   \n",
      "11  0.985715  1.378114  0.916068  ...  0.210086  0.529153  0.204599 -0.042698   \n",
      "12 -0.773110 -0.370561  0.264296  ...  1.726559  1.320573  1.407051  0.956756   \n",
      "13  2.017286  0.804883  0.140770  ...  0.425689  0.684255 -0.730480 -0.810308   \n",
      "14 -0.605265  0.740193 -1.672722  ...  0.230818  0.640030 -1.503089  0.314016   \n",
      "15  0.520390  0.070931  1.568677  ...  0.146904  0.252301 -1.305663  0.345203   \n",
      "16  0.266984  0.122554 -0.390499  ...  0.682763 -0.558269 -1.278102  1.403212   \n",
      "17  0.318984  0.012029  0.226263  ...  0.615246 -0.099880  1.145779  0.178372   \n",
      "18 -0.347158 -0.625985  1.324377  ... -0.715490  0.225333  0.771537  0.439871   \n",
      "19  0.072211 -0.411758 -0.502616  ... -0.197562 -0.586523 -0.140592 -0.413133   \n",
      "20 -0.023922 -0.479532 -0.175790  ...  1.644762 -0.327635 -0.433659 -1.447535   \n",
      "21  0.640895  2.071019 -1.069898  ...  0.247933  1.448734 -0.416883 -0.562070   \n",
      "22  0.134736  2.147213 -0.464928  ... -0.655502  2.045453  0.520641  1.774069   \n",
      "23 -1.447761 -0.271481  0.279239  ...  0.422054  1.369483 -0.545482  0.219934   \n",
      "24 -0.655116  0.542169 -0.363173  ...  0.067946 -0.259028 -0.285758 -0.748426   \n",
      "25 -1.368402  0.583574 -0.709282  ...  0.015234 -1.407117  0.498203  0.016735   \n",
      "26  1.281157 -0.712774 -1.398798  ...  0.146329  0.869550  0.373024  0.013928   \n",
      "27  0.399954 -1.053290  0.123811  ...  0.614378  1.089907  1.459461  0.359534   \n",
      "28  1.766725 -0.792966  0.340306  ... -0.401514  0.629989  1.637902  0.430283   \n",
      "29  0.108889 -1.219865 -0.144773  ...  0.216282 -0.587752  0.735038 -1.296073   \n",
      "30  0.742530 -1.201160 -0.792698  ... -0.017899  1.036959  0.246202  0.989132   \n",
      "31  0.906267 -0.190726 -0.249607  ... -0.231747 -0.667394 -1.361881 -1.234378   \n",
      "32 -0.628453 -0.434516 -0.670957  ...  1.342449 -0.401456 -0.309532 -0.227191   \n",
      "33 -0.550899 -1.365349 -1.050847  ... -1.008630 -1.593596 -0.087040 -0.248620   \n",
      "34 -0.710504  0.138637  0.064282  ... -1.281250  1.388591 -1.698148  0.185019   \n",
      "35  0.734773  0.956855  1.413005  ...  0.241465 -0.876963 -0.480112  0.264909   \n",
      "36  0.728955 -1.052269  0.290409  ...  0.527906 -2.420576 -1.385459 -0.155981   \n",
      "37 -0.022312 -0.418607  0.519561  ...  0.231124 -0.109711  0.289388 -1.318970   \n",
      "38  0.965941 -1.134572 -0.949221  ...  0.427988  1.768674  0.739277 -0.401478   \n",
      "39 -1.298200 -0.333719  0.722572  ... -1.385103  1.490871 -1.067035  0.185938   \n",
      "\n",
      "         994       995       996       997       998       999  \n",
      "0  -1.465006  1.075148 -1.226125 -3.056328  1.450658  0.717977  \n",
      "1   2.034465  3.003267 -0.501702  0.449889  1.310348  0.763482  \n",
      "2   0.440849 -0.123441 -0.717430  1.880362  0.383837  0.313576  \n",
      "3  -0.530442 -1.036740 -0.169113 -0.742841 -0.408860 -0.326473  \n",
      "4   1.075337 -1.270604  0.599530  2.238346 -0.471111 -0.158700  \n",
      "5   0.298128 -1.277029 -0.997987 -0.291738 -1.392396  0.468113  \n",
      "6   2.515097 -0.278504  0.028236  1.270233 -0.805808  0.519161  \n",
      "7   0.191902  1.249723  0.200508  0.696415  0.210900 -0.427099  \n",
      "8   0.325376 -0.706994 -1.364865  1.242857  1.727079  2.759068  \n",
      "9   0.790791 -0.704671  0.564957  0.429148  0.862870 -2.571514  \n",
      "10 -0.307409  0.137414  0.032998  1.560240  0.820755 -1.037164  \n",
      "11 -1.445376 -0.545526 -1.902298  1.698944 -0.748894 -1.530438  \n",
      "12 -0.462178  1.237348 -0.437141 -2.109933  1.560224  1.692381  \n",
      "13  0.286564 -0.115167 -1.046251 -0.807240 -0.509583  0.300096  \n",
      "14 -0.000341 -0.188576  0.665139 -1.146654  1.071049 -0.643579  \n",
      "15 -0.271390 -0.335445 -0.443117 -2.119410 -0.969547  0.056759  \n",
      "16  0.986357 -1.039042  0.179952 -1.382769 -1.436005 -1.265215  \n",
      "17  0.493799  2.098071 -0.504088  0.975307  0.424573  0.278177  \n",
      "18 -0.143558  1.189881 -0.297914 -0.815841 -0.688211 -0.499156  \n",
      "19  1.882245 -0.488302  1.380388 -1.797123 -0.413003 -0.442702  \n",
      "20  0.651650 -1.131076 -1.166284  1.583854 -0.367009  1.204610  \n",
      "21 -1.494485  0.532700  1.143079  1.546694 -2.349555  0.311026  \n",
      "22 -0.885706  1.715767  0.411273  1.932612  1.323857 -0.886118  \n",
      "23  0.826793 -0.584761  1.201187 -1.480001 -0.777649 -0.246301  \n",
      "24 -0.078125 -1.416804  0.215367 -0.721724 -0.052395 -0.888155  \n",
      "25  1.152476 -0.934369 -0.072307  0.166487  1.011977 -0.487949  \n",
      "26  0.853654 -0.825359 -0.171082  0.790498  1.719617  0.923208  \n",
      "27  0.402255 -0.096313 -0.523842 -0.231710 -0.571475 -0.564243  \n",
      "28  0.239163 -0.503350  1.125239 -1.906912  1.165922  0.174598  \n",
      "29  1.045731 -0.216360 -1.952056 -0.718626  1.456871 -0.359066  \n",
      "30 -1.421523  0.842161 -1.012523  0.135085  0.109018 -1.105732  \n",
      "31 -0.311045 -0.762154  0.593252 -0.732077 -0.128521 -0.876950  \n",
      "32  0.914104  0.546881 -0.594506 -0.037468  0.860270 -0.298792  \n",
      "33 -1.549967  1.586981 -1.443559 -0.836689  0.765015 -0.576146  \n",
      "34  1.324033 -0.242043 -0.028870  0.020274 -2.360090 -1.196780  \n",
      "35  1.027569  0.507190  0.052170 -0.803306  0.252699  0.409031  \n",
      "36  0.464695  1.297424 -0.867227 -0.907276 -1.461818 -0.032282  \n",
      "37 -1.259852  0.314290  0.228531 -0.781791 -0.812342 -0.562064  \n",
      "38  0.737909 -1.513097 -0.207759  0.069908 -1.095099 -0.315811  \n",
      "39  0.957475 -0.074709 -0.209665  1.336894 -1.460114  0.192863  \n",
      "\n",
      "[40 rows x 1000 columns]\n",
      "[[-0.9619334  -0.2925257   0.2587882  ... -3.056328    1.450658\n",
      "   0.7179769 ]\n",
      " [ 0.4418028  -1.139267   -0.9728448  ...  0.4498887   1.310348\n",
      "   0.7634819 ]\n",
      " [-0.9750051   0.195837    0.5884858  ...  1.880362    0.3838369\n",
      "   0.313576  ]\n",
      " ...\n",
      " [ 0.4681471  -0.5423036   0.4016818  ... -0.781791   -0.8123422\n",
      "  -0.5620644 ]\n",
      " [ 1.0611      0.3129389  -0.01622713 ...  0.06990843 -1.095099\n",
      "  -0.315811  ]\n",
      " [ 1.65597    -1.284377   -0.5265532  ...  1.336894   -1.460114\n",
      "   0.1928633 ]]\n"
     ]
    }
   ],
   "source": [
    "# Load data\n",
    "gene_data = pd.read_csv('../data/Ch10Ex11.csv', header=None) # specify that there is no column names\n",
    "gene_data = gene_data.T # transpose data\n",
    "print(gene_data)\n",
    "\n",
    "# Get array of values\n",
    "gene = np.arange(0,1000,1)\n",
    "genes_array = gene_data.loc[:, gene].values\n",
    "print(genes_array)"
   ]
  },
  {
   "cell_type": "markdown",
   "metadata": {},
   "source": [
    "(b) Let's apply hierarchical clustering to the samples using correlation based distance with different types of linkage, and plot the dendrogram."
   ]
  },
  {
   "cell_type": "code",
   "execution_count": 122,
   "metadata": {},
   "outputs": [
    {
     "data": {
      "text/plain": [
       "Text(0.5, 1.0, 'hc single')"
      ]
     },
     "execution_count": 122,
     "metadata": {},
     "output_type": "execute_result"
    },
    {
     "data": {
      "image/png": "[encoded data removed]",
      "text/plain": [
       "<Figure size 720x1440 with 3 Axes>"
      ]
     },
     "metadata": {
      "needs_background": "light"
     },
     "output_type": "display_data"
    }
   ],
   "source": [
    "# Perform hierarchical clustering on scaled data\n",
    "gene_hc_complete = linkage(gene_data, method='complete', metric='correlation')\n",
    "gene_hc_average = linkage(gene_data, method='average', metric='correlation')\n",
    "gene_hc_single = linkage(gene_data, method='single', metric='correlation')\n",
    "\n",
    "# Plot dedrograms\n",
    "fig, (ax1, ax2, ax3) = plt.subplots(3,1, figsize=(10, 20))\n",
    "\n",
    "dendrogram(gene_hc_average, ax=ax1, leaf_rotation=90., leaf_font_size=15)\n",
    "ax1.set_title('hc average')\n",
    "dendrogram(gene_hc_complete, ax=ax2, leaf_rotation=90., leaf_font_size=15)\n",
    "ax2.set_title('hc complete')\n",
    "dendrogram(gene_hc_single, ax=ax3, leaf_rotation=90., leaf_font_size=15)\n",
    "ax3.set_title('hc single')\n"
   ]
  },
  {
   "cell_type": "code",
   "execution_count": 134,
   "metadata": {},
   "outputs": [
    {
     "name": "stdout",
     "output_type": "stream",
     "text": [
      "    Complete linkage  Average linkage  Single linkage\n",
      "0                  0                0               0\n",
      "1                  1                0               0\n",
      "2                  0                0               0\n",
      "3                  0                0               0\n",
      "4                  1                1               0\n",
      "5                  0                1               0\n",
      "6                  1                0               0\n",
      "7                  0                1               0\n",
      "8                  1                0               0\n",
      "9                  1                1               0\n",
      "10                 0                1               0\n",
      "11                 0                1               0\n",
      "12                 1                1               0\n",
      "13                 0                1               0\n",
      "14                 0                1               0\n",
      "15                 1                0               0\n",
      "16                 1                1               0\n",
      "17                 1                1               0\n",
      "18                 1                0               1\n",
      "19                 0                0               0\n",
      "20                 1                1               0\n",
      "21                 1                1               0\n",
      "22                 1                1               0\n",
      "23                 1                1               0\n",
      "24                 1                1               0\n",
      "25                 1                1               0\n",
      "26                 1                1               0\n",
      "27                 1                1               0\n",
      "28                 1                1               0\n",
      "29                 1                1               0\n",
      "30                 1                1               0\n",
      "31                 1                1               0\n",
      "32                 1                1               0\n",
      "33                 1                1               0\n",
      "34                 1                1               0\n",
      "35                 1                1               0\n",
      "36                 1                1               0\n",
      "37                 1                1               0\n",
      "38                 1                1               0\n",
      "39                 1                1               0\n"
     ]
    }
   ],
   "source": [
    "# Cut tree with three clusters\n",
    "cut_genes_complete = cut_tree(gene_hc_complete , n_clusters=2)\n",
    "cut_genes_average = cut_tree(gene_hc_average , n_clusters=2)\n",
    "cut_genes_single = cut_tree(gene_hc_single , n_clusters=2)\n",
    "\n",
    "cut_all = np.hstack([cut_genes_complete, cut_genes_average, cut_genes_single])\n",
    "\n",
    "clusters_genes = pd.DataFrame(cut_all, columns = ['Complete linkage', 'Average linkage', 'Single linkage'])\n",
    "print(clusters_genes)"
   ]
  },
  {
   "cell_type": "markdown",
   "metadata": {},
   "source": [
    "Genes do not perfectly separate the samples into two groups, although performance improves when using complete and average linkage. "
   ]
  },
  {
   "cell_type": "markdown",
   "metadata": {},
   "source": [
    "(c) To know which genes differ the most across the two groups, we can search for the genes with the highest loadings in the first principal components analyses.\n",
    "\n",
    "Let's start by scaling the data and performing PCA to the genes data:"
   ]
  },
  {
   "cell_type": "code",
   "execution_count": 136,
   "metadata": {},
   "outputs": [
    {
     "name": "stdout",
     "output_type": "stream",
     "text": [
      "[[ 8.47405343e+00  4.44189490e+00  2.87152639e+00 ...  1.77866590e-01\n",
      "   3.44915900e+00  3.97714366e-15]\n",
      " [ 8.62132673e+00  6.36661253e+00  2.10332417e+00 ...  1.37009543e+00\n",
      "  -1.81925156e+00  3.97714366e-15]\n",
      " [ 9.66918428e+00  1.31198468e+00  3.29412837e-01 ... -2.40661242e+00\n",
      "  -5.32048573e+00  3.97714366e-15]\n",
      " ...\n",
      " [-1.01796734e+01  2.68693874e+00 -2.43416309e+00 ... -1.81795664e-01\n",
      "   3.91278163e-01  3.97714366e-15]\n",
      " [-9.03657387e+00 -8.40600007e-02  6.66929785e-01 ... -3.40223077e+00\n",
      "   2.46991012e+00  3.97714366e-15]\n",
      " [-1.00290809e+01  5.89817915e+00 -1.06688454e+00 ...  6.12853961e+00\n",
      "  -4.34517301e-01  3.97714366e-15]]\n"
     ]
    }
   ],
   "source": [
    "# Scale data \n",
    "scaler = StandardScaler()\n",
    "gene_scaled = scaler.fit_transform(gene_data)\n",
    "\n",
    "# Compute PCA\n",
    "pca = PCA()\n",
    "pca_genes = pca.fit_transform(gene_scaled)\n",
    "print(pca_genes)"
   ]
  },
  {
   "cell_type": "code",
   "execution_count": null,
   "metadata": {},
   "outputs": [],
   "source": [
    "# define column names and list of genes \n",
    "columns_pca_genes = ['PCA_' + str(pca +1) for pca in range(0, np.shape(pca_genes)[1])]\n",
    "genes = np.arange(1,1001,1)\n",
    "\n",
    "# Get loadings\n",
    "pca_loadings_genes = (pca.components_ ** 2).T\n",
    "pca_loadings_df_genes = pd.DataFrame(pca_loadings_genes, index=genes, columns=columns_pca_genes)\n",
    "print(pca_loadings_df_genes)"
   ]
  },
  {
   "cell_type": "markdown",
   "metadata": {},
   "source": [
    "Select genes with highest values:"
   ]
  },
  {
   "cell_type": "code",
   "execution_count": 132,
   "metadata": {},
   "outputs": [
    {
     "name": "stdout",
     "output_type": "stream",
     "text": [
      "            PCA_1         PCA_2         PCA_3         PCA_4         PCA_5  \\\n",
      "484  1.348333e-11  1.824242e-04  5.443020e-04  4.408929e-04  5.439339e-05   \n",
      "949  3.950218e-10  9.209798e-05  2.352264e-04  1.323762e-04  5.180081e-06   \n",
      "386  1.084548e-09  6.712569e-04  4.930181e-04  3.496857e-04  3.199571e-03   \n",
      "352  2.773905e-09  4.851989e-06  2.233694e-03  2.558914e-04  2.249875e-03   \n",
      "639  5.402089e-09  1.939593e-03  1.234807e-05  2.889789e-03  2.041598e-04   \n",
      "21   8.857531e-09  1.680631e-04  3.590861e-04  2.552754e-04  1.808059e-03   \n",
      "785  1.379602e-08  2.354597e-04  1.226497e-03  2.601256e-03  1.250292e-03   \n",
      "976  1.955146e-08  2.917595e-03  6.819280e-04  4.132387e-04  5.725928e-04   \n",
      "205  2.388569e-08  8.698800e-05  1.189106e-04  2.213840e-03  4.771179e-03   \n",
      "614  2.877858e-08  3.923837e-04  1.072563e-03  1.056731e-03  8.206467e-05   \n",
      "899  4.363648e-08  1.620634e-04  1.804424e-04  3.490744e-05  1.974323e-04   \n",
      "748  4.607579e-08  3.029935e-05  1.849566e-03  6.010794e-04  1.401129e-05   \n",
      "174  6.858299e-08  2.406259e-03  1.872451e-03  5.469833e-04  2.087220e-04   \n",
      "822  7.234986e-08  2.754111e-04  8.327241e-07  1.555704e-04  7.432041e-05   \n",
      "865  7.949418e-08  1.793423e-03  2.336544e-07  3.165717e-04  8.818530e-04   \n",
      "255  9.591931e-08  9.488131e-04  1.077437e-04  1.515041e-03  7.680584e-04   \n",
      "959  9.863559e-08  1.271022e-04  3.439724e-04  5.903245e-04  1.018652e-03   \n",
      "723  1.052013e-07  5.413320e-04  2.604083e-06  2.695171e-04  1.006590e-03   \n",
      "850  1.064063e-07  4.835829e-05  2.322217e-04  2.391444e-03  9.105266e-04   \n",
      "859  1.093777e-07  5.013374e-04  2.638982e-04  9.686368e-04  5.334889e-05   \n",
      "164  1.147231e-07  8.108162e-04  4.509414e-04  4.538733e-03  3.865173e-03   \n",
      "432  1.191256e-07  1.545515e-03  1.492078e-04  5.255850e-05  2.128152e-04   \n",
      "85   1.314697e-07  4.137545e-04  1.517199e-03  3.509869e-03  1.667881e-03   \n",
      "934  1.487453e-07  2.364834e-03  1.832993e-06  1.635351e-03  1.326501e-03   \n",
      "918  1.640678e-07  5.878079e-05  2.891176e-04  4.774424e-06  2.353388e-03   \n",
      "311  1.758446e-07  2.758147e-03  1.437835e-03  7.035775e-04  1.747040e-05   \n",
      "335  1.772441e-07  2.390771e-05  4.616023e-04  6.391660e-04  1.065111e-07   \n",
      "407  1.949292e-07  4.164387e-04  6.877194e-04  4.133999e-03  9.162390e-03   \n",
      "951  1.977367e-07  4.491200e-04  1.513303e-03  3.578122e-07  4.345207e-05   \n",
      "646  2.476871e-07  2.076808e-04  1.392572e-05  2.699223e-03  1.019925e-04   \n",
      "..            ...           ...           ...           ...           ...   \n",
      "503  8.736020e-03  7.311394e-05  3.772949e-07  4.677256e-04  2.060992e-03   \n",
      "592  8.868559e-03  2.607252e-05  1.700363e-03  1.642308e-03  9.015995e-05   \n",
      "535  9.019679e-03  5.348604e-06  3.150772e-03  2.462465e-03  6.430446e-04   \n",
      "523  9.019919e-03  1.653220e-05  1.251064e-03  2.783067e-04  1.346643e-04   \n",
      "516  9.110724e-03  3.503899e-04  9.032968e-05  1.435249e-04  2.759441e-03   \n",
      "546  9.225319e-03  4.303366e-04  8.697045e-05  7.476892e-03  2.471341e-04   \n",
      "570  9.483879e-03  2.963332e-03  2.146096e-03  2.727073e-04  1.450771e-03   \n",
      "548  9.636511e-03  1.874512e-05  1.144220e-03  3.674758e-04  8.105264e-04   \n",
      "536  9.637679e-03  1.483914e-03  3.711680e-05  1.582933e-05  4.424219e-04   \n",
      "511  9.865409e-03  1.666347e-03  1.650000e-05  6.773036e-07  5.724266e-04   \n",
      "589  9.901326e-03  6.850778e-04  1.241041e-03  7.287444e-04  6.778586e-06   \n",
      "551  1.001508e-02  1.889551e-04  4.692741e-04  2.256141e-04  4.148677e-05   \n",
      "12   1.014446e-02  1.017720e-04  5.315610e-04  1.206932e-04  3.640244e-03   \n",
      "561  1.026963e-02  2.320145e-03  2.769681e-05  3.153004e-04  7.575146e-04   \n",
      "593  1.029060e-02  7.234250e-05  2.363418e-04  1.509678e-05  1.757091e-03   \n",
      "538  1.032105e-02  5.014511e-04  2.060961e-03  7.872914e-06  6.271623e-04   \n",
      "513  1.037952e-02  6.114931e-04  1.584275e-03  2.340858e-04  2.928018e-04   \n",
      "562  1.040324e-02  5.643911e-04  7.564121e-05  1.648612e-03  5.428050e-03   \n",
      "554  1.064241e-02  7.608018e-05  1.496156e-03  4.695572e-03  4.415384e-04   \n",
      "509  1.077698e-02  5.302202e-04  1.389052e-03  2.308959e-03  1.801245e-05   \n",
      "599  1.077873e-02  3.483139e-04  1.120184e-03  1.356184e-03  1.261373e-03   \n",
      "529  1.084997e-02  1.105163e-04  1.898014e-05  1.507706e-04  1.466976e-03   \n",
      "568  1.127581e-02  1.059822e-02  4.048365e-03  4.853483e-04  3.758121e-03   \n",
      "565  1.129356e-02  7.416135e-04  7.075344e-04  5.443474e-04  5.430263e-04   \n",
      "582  1.135277e-02  6.846915e-07  5.467108e-04  5.149448e-03  1.034191e-03   \n",
      "502  1.154756e-02  3.435910e-06  1.091261e-04  1.522645e-04  1.934999e-03   \n",
      "540  1.169112e-02  1.361133e-04  3.821526e-07  2.053187e-03  3.209042e-04   \n",
      "549  1.173525e-02  1.409730e-03  5.820337e-04  1.675696e-04  1.244936e-03   \n",
      "584  1.218779e-02  6.519744e-05  2.057987e-04  2.332278e-04  3.062264e-03   \n",
      "600  1.305147e-02  4.128739e-04  1.598539e-03  1.215240e-03  2.248317e-07   \n",
      "\n",
      "            PCA_6         PCA_7         PCA_8         PCA_9        PCA_10  \\\n",
      "484  5.291684e-05  1.207421e-04  1.731223e-04  9.349252e-04  1.089912e-03   \n",
      "949  1.321462e-04  1.589710e-03  4.214540e-03  1.861714e-03  7.177517e-05   \n",
      "386  4.964839e-04  1.157070e-03  1.173522e-04  1.420381e-04  5.011975e-06   \n",
      "352  4.174607e-03  3.596412e-03  9.740997e-04  7.968051e-05  9.720774e-04   \n",
      "639  4.024358e-05  7.927135e-07  2.453741e-04  6.722189e-04  2.099817e-05   \n",
      "21   3.391660e-04  3.957096e-04  1.345195e-04  2.975611e-04  7.843049e-05   \n",
      "785  4.201578e-04  3.097453e-04  1.406726e-04  3.135941e-03  3.845202e-06   \n",
      "976  1.389286e-04  3.340815e-08  9.602780e-06  6.332603e-04  1.309251e-05   \n",
      "205  4.522271e-05  1.883255e-04  1.300884e-03  5.145974e-04  2.619739e-03   \n",
      "614  1.857288e-04  2.340310e-03  7.456688e-04  6.080495e-04  9.613454e-04   \n",
      "899  7.011836e-04  1.550139e-05  5.540191e-05  1.987653e-04  2.896681e-03   \n",
      "748  4.061081e-03  1.253953e-03  2.949813e-03  3.354871e-04  2.380533e-03   \n",
      "174  8.137172e-04  7.515423e-05  5.188247e-05  8.600695e-04  4.917256e-04   \n",
      "822  2.504465e-04  3.718472e-04  1.261266e-04  1.224069e-03  7.008473e-04   \n",
      "865  2.810887e-03  1.076370e-03  4.170074e-03  2.508024e-03  3.539438e-06   \n",
      "255  7.183575e-03  1.290017e-03  3.564641e-05  3.815403e-04  2.818981e-03   \n",
      "959  5.208911e-07  7.859105e-04  6.540886e-03  2.510272e-06  1.226189e-03   \n",
      "723  1.880294e-03  4.875855e-04  1.724978e-03  1.486006e-03  7.585512e-04   \n",
      "850  1.916546e-03  5.463239e-03  7.400308e-04  1.160017e-05  2.835643e-06   \n",
      "859  2.139310e-05  6.635683e-05  1.271568e-03  3.895863e-04  1.738908e-03   \n",
      "164  8.865737e-05  1.074337e-05  1.459526e-03  1.257558e-04  1.526066e-06   \n",
      "432  1.898810e-04  3.021103e-04  5.314912e-04  3.953783e-04  7.816438e-05   \n",
      "85   2.816323e-03  2.079423e-03  6.071415e-04  8.157781e-04  2.032432e-03   \n",
      "934  2.909161e-05  3.166358e-04  2.025130e-04  3.099204e-05  2.893028e-05   \n",
      "918  2.604371e-05  6.111871e-06  1.953008e-04  6.128488e-05  3.102649e-04   \n",
      "311  7.231997e-08  1.862161e-03  1.771044e-04  1.627519e-04  1.889070e-06   \n",
      "335  9.812650e-04  2.811785e-03  1.674502e-03  1.065861e-03  5.828254e-05   \n",
      "407  1.348646e-03  2.437021e-04  5.594775e-04  3.243672e-04  2.797920e-03   \n",
      "951  1.230555e-03  4.536721e-03  3.934479e-05  1.467232e-03  3.168262e-06   \n",
      "646  7.499420e-04  4.674034e-06  2.899703e-03  2.479462e-05  4.054750e-05   \n",
      "..            ...           ...           ...           ...           ...   \n",
      "503  1.264483e-04  8.871078e-05  1.308938e-03  2.059425e-03  2.655189e-04   \n",
      "592  5.345473e-04  1.684335e-03  6.985053e-05  7.103505e-05  1.445295e-03   \n",
      "535  5.126505e-05  3.188675e-05  2.258032e-04  1.408335e-03  1.419256e-03   \n",
      "523  8.182690e-05  1.105049e-04  9.448504e-04  3.282290e-03  3.407415e-04   \n",
      "516  1.232000e-05  1.230951e-03  2.798302e-03  2.376708e-03  9.252493e-04   \n",
      "546  1.373264e-04  3.000171e-03  7.273903e-06  1.810313e-04  1.261417e-03   \n",
      "570  9.929463e-04  7.895730e-05  5.577234e-04  7.694724e-05  4.023834e-05   \n",
      "548  2.326939e-03  3.020342e-03  2.396400e-03  5.186096e-04  1.272309e-03   \n",
      "536  4.291671e-07  3.107096e-05  5.485993e-05  4.947099e-03  2.090968e-04   \n",
      "511  3.059895e-04  6.289776e-04  2.104973e-05  4.704485e-05  2.811878e-03   \n",
      "589  6.712551e-04  2.185846e-05  5.921851e-05  1.605672e-03  1.843293e-04   \n",
      "551  4.124214e-05  1.810792e-03  1.089126e-03  4.067821e-05  5.045075e-03   \n",
      "12   9.839226e-04  5.301046e-04  1.535301e-03  2.844593e-04  4.706541e-04   \n",
      "561  5.893629e-06  1.018020e-04  1.818825e-03  1.304442e-03  2.107908e-04   \n",
      "593  1.227816e-03  4.899176e-03  2.030828e-04  3.057758e-03  1.993616e-06   \n",
      "538  1.207343e-04  2.425570e-04  2.524869e-05  4.398532e-04  2.569953e-03   \n",
      "513  2.690096e-03  7.272618e-03  2.210405e-03  1.453302e-03  3.698717e-04   \n",
      "562  2.593727e-03  2.742569e-03  9.336378e-04  1.832919e-05  6.861436e-04   \n",
      "554  3.066469e-04  3.861033e-03  4.323134e-04  5.071206e-04  1.653505e-03   \n",
      "509  6.238585e-03  4.591424e-04  8.565921e-04  1.663070e-03  4.342171e-04   \n",
      "599  3.991146e-07  1.410553e-04  1.986109e-04  1.590016e-03  4.431224e-03   \n",
      "529  1.306486e-03  5.639386e-03  1.174476e-02  2.966993e-07  5.766587e-03   \n",
      "568  6.540836e-04  4.998153e-03  9.230733e-09  1.924032e-03  2.316674e-03   \n",
      "565  9.517224e-05  7.754390e-04  3.158611e-04  2.914434e-05  3.795475e-04   \n",
      "582  1.295852e-03  9.688369e-05  1.860928e-04  2.115233e-03  1.738576e-03   \n",
      "502  1.068879e-03  2.140704e-05  1.345914e-03  5.319025e-04  2.418407e-07   \n",
      "540  7.856011e-04  2.649537e-03  4.367947e-05  3.801763e-06  5.601719e-04   \n",
      "549  4.073683e-04  3.387175e-03  1.853806e-03  1.311613e-04  7.843476e-05   \n",
      "584  7.096915e-04  2.853271e-04  7.205584e-04  7.330754e-05  1.110758e-03   \n",
      "600  4.024904e-04  7.756416e-04  7.558227e-05  1.399502e-05  5.079361e-03   \n",
      "\n",
      "     ...        PCA_31        PCA_32    PCA_33    PCA_34        PCA_35  \\\n",
      "484  ...  2.468988e-03  3.211521e-04  0.000134  0.001861  2.308870e-04   \n",
      "949  ...  2.355794e-03  4.265633e-07  0.003202  0.000515  1.307916e-04   \n",
      "386  ...  1.413154e-03  1.541096e-04  0.001130  0.000576  8.585965e-04   \n",
      "352  ...  1.035029e-03  7.043566e-05  0.000042  0.001277  2.988547e-03   \n",
      "639  ...  1.113461e-04  1.352110e-03  0.000118  0.000113  1.690809e-03   \n",
      "21   ...  1.961061e-06  8.768188e-04  0.000064  0.001274  5.060566e-03   \n",
      "785  ...  5.348534e-05  3.559218e-04  0.000074  0.000737  8.748938e-04   \n",
      "976  ...  1.965892e-03  2.857155e-04  0.000049  0.007851  5.553393e-04   \n",
      "205  ...  2.367758e-03  6.049868e-05  0.000635  0.001542  4.251716e-07   \n",
      "614  ...  2.285440e-04  6.319132e-04  0.001124  0.000248  8.411861e-05   \n",
      "899  ...  5.521308e-04  1.045506e-03  0.000244  0.000392  3.103246e-03   \n",
      "748  ...  3.448163e-03  1.321921e-03  0.000003  0.000428  1.505186e-03   \n",
      "174  ...  1.267759e-05  6.934147e-05  0.002021  0.000123  8.361439e-05   \n",
      "822  ...  2.132502e-03  1.165507e-03  0.000092  0.001130  1.587196e-04   \n",
      "865  ...  1.131604e-06  3.116171e-03  0.000033  0.002103  1.326424e-03   \n",
      "255  ...  1.348102e-04  2.021858e-05  0.003659  0.002114  3.199207e-04   \n",
      "959  ...  2.405348e-03  6.913991e-04  0.000222  0.000605  9.970115e-04   \n",
      "723  ...  5.363115e-04  1.000681e-03  0.001889  0.000778  1.430365e-07   \n",
      "850  ...  1.366431e-03  2.776053e-03  0.000077  0.000642  6.498789e-04   \n",
      "859  ...  3.227648e-05  1.127378e-03  0.000063  0.000591  1.239267e-04   \n",
      "164  ...  1.204670e-04  6.212598e-06  0.000172  0.000010  6.598340e-08   \n",
      "432  ...  3.135656e-03  2.049970e-03  0.000098  0.000313  4.359110e-05   \n",
      "85   ...  4.582896e-03  2.475821e-04  0.002563  0.000007  1.129775e-04   \n",
      "934  ...  4.106875e-03  4.638331e-04  0.000546  0.000228  3.367762e-04   \n",
      "918  ...  3.394357e-04  7.699388e-04  0.001078  0.000106  3.126002e-04   \n",
      "311  ...  4.873506e-03  1.472488e-03  0.001258  0.000317  1.097381e-03   \n",
      "335  ...  6.554730e-04  6.842914e-06  0.000546  0.000036  3.175892e-05   \n",
      "407  ...  2.572949e-05  9.185371e-06  0.003360  0.000333  4.357952e-04   \n",
      "951  ...  9.110123e-07  2.380589e-03  0.000282  0.000766  2.270724e-06   \n",
      "646  ...  3.092080e-05  8.823293e-04  0.002286  0.000170  3.028074e-04   \n",
      "..   ...           ...           ...       ...       ...           ...   \n",
      "503  ...  8.736087e-05  3.252614e-06  0.000039  0.000033  8.595348e-05   \n",
      "592  ...  3.814790e-04  3.007942e-03  0.000006  0.000190  1.670801e-05   \n",
      "535  ...  3.073299e-06  2.977426e-06  0.000001  0.000079  2.050017e-03   \n",
      "523  ...  2.610160e-04  4.632250e-05  0.001204  0.006175  1.287045e-05   \n",
      "516  ...  8.356556e-04  7.079829e-05  0.000038  0.000741  4.506697e-04   \n",
      "546  ...  7.385582e-04  7.913490e-05  0.000661  0.001352  8.227573e-05   \n",
      "570  ...  8.895763e-04  2.588934e-04  0.000167  0.000028  1.401270e-03   \n",
      "548  ...  6.455947e-04  8.156825e-04  0.001174  0.000102  3.891367e-03   \n",
      "536  ...  2.753391e-03  8.358292e-04  0.005817  0.001220  4.356576e-03   \n",
      "511  ...  5.225691e-04  5.196171e-03  0.000775  0.003143  3.334119e-03   \n",
      "589  ...  2.935589e-04  1.475854e-04  0.001443  0.000167  2.931462e-05   \n",
      "551  ...  1.008178e-05  7.141846e-04  0.000366  0.000830  7.621546e-05   \n",
      "12   ...  2.257532e-05  1.609961e-04  0.005006  0.001793  2.519958e-04   \n",
      "561  ...  2.211361e-06  2.085414e-03  0.000047  0.000065  5.126414e-03   \n",
      "593  ...  2.624476e-06  1.613858e-03  0.001992  0.000177  1.066349e-04   \n",
      "538  ...  9.271927e-04  1.271127e-03  0.002296  0.001752  6.194214e-04   \n",
      "513  ...  2.043181e-03  4.607739e-03  0.000810  0.000441  1.439979e-04   \n",
      "562  ...  4.318586e-03  5.600784e-05  0.002091  0.000014  2.230943e-03   \n",
      "554  ...  4.840562e-03  8.288895e-07  0.000373  0.000140  5.745727e-04   \n",
      "509  ...  2.890825e-03  1.380110e-04  0.003790  0.000401  4.178050e-04   \n",
      "599  ...  1.425795e-03  1.225540e-04  0.002849  0.000952  2.969181e-05   \n",
      "529  ...  9.721401e-04  3.582376e-04  0.001351  0.001566  7.126115e-03   \n",
      "568  ...  3.118830e-03  1.028423e-03  0.000042  0.000516  4.045332e-06   \n",
      "565  ...  3.319334e-03  2.407933e-04  0.002348  0.003285  6.911408e-04   \n",
      "582  ...  5.808098e-04  9.787010e-05  0.000025  0.000607  6.300831e-03   \n",
      "502  ...  1.877041e-03  7.928987e-04  0.000496  0.000887  1.439833e-03   \n",
      "540  ...  4.937490e-04  1.133836e-03  0.000287  0.000766  5.709527e-04   \n",
      "549  ...  3.090940e-04  1.895524e-04  0.001076  0.002115  1.880167e-03   \n",
      "584  ...  4.059108e-04  8.620938e-04  0.000204  0.000017  2.349731e-04   \n",
      "600  ...  1.898288e-03  5.410313e-06  0.000006  0.003619  5.013854e-04   \n",
      "\n",
      "           PCA_36        PCA_37    PCA_38        PCA_39        PCA_40  \n",
      "484  1.215288e-05  9.884526e-04  0.000170  5.800403e-05  6.131446e-04  \n",
      "949  2.500052e-04  2.121758e-04  0.000267  4.696486e-05  1.098871e-04  \n",
      "386  1.092487e-03  3.331168e-03  0.000942  6.212365e-04  5.003481e-04  \n",
      "352  9.486770e-04  2.381421e-03  0.000002  1.951898e-03  9.776179e-06  \n",
      "639  6.770799e-04  2.186357e-03  0.002028  3.874601e-04  1.339405e-04  \n",
      "21   3.365512e-03  1.755945e-06  0.000179  1.733301e-03  8.800754e-04  \n",
      "785  2.507486e-05  1.549566e-03  0.000234  1.466340e-03  2.945398e-04  \n",
      "976  7.491299e-04  4.766139e-04  0.001606  9.245517e-04  4.292616e-04  \n",
      "205  1.871450e-03  3.591011e-05  0.000746  2.462717e-04  3.649930e-04  \n",
      "614  2.185519e-05  5.163984e-04  0.000002  2.228516e-03  4.177409e-05  \n",
      "899  5.451268e-05  3.029004e-03  0.000206  1.430484e-03  1.770248e-03  \n",
      "748  5.721563e-04  3.328570e-04  0.004856  3.653810e-04  2.830515e-05  \n",
      "174  1.412726e-03  1.711672e-03  0.000261  9.760116e-04  9.190979e-05  \n",
      "822  1.161629e-04  1.392058e-05  0.000620  2.961921e-03  1.613858e-05  \n",
      "865  1.778419e-04  3.222683e-04  0.000243  9.842751e-04  6.201989e-05  \n",
      "255  1.461863e-03  1.088189e-03  0.001448  6.134577e-04  1.511770e-04  \n",
      "959  1.424977e-03  2.100478e-05  0.001571  9.627008e-07  1.626883e-04  \n",
      "723  6.054289e-04  2.265341e-04  0.000042  3.868768e-05  3.939508e-04  \n",
      "850  4.883951e-04  1.351674e-04  0.000036  4.973919e-04  4.270402e-05  \n",
      "859  4.040707e-04  1.637603e-06  0.003303  2.316045e-03  1.769463e-03  \n",
      "164  2.558403e-04  1.330524e-04  0.000618  4.834356e-04  9.225730e-05  \n",
      "432  5.225087e-03  8.500684e-05  0.002971  1.924055e-04  1.621921e-04  \n",
      "85   2.281541e-04  3.166136e-05  0.000059  3.435905e-04  1.633351e-05  \n",
      "934  7.144005e-04  3.125310e-03  0.000940  2.455278e-03  8.116491e-07  \n",
      "918  1.100091e-04  1.312218e-04  0.000162  3.260115e-04  7.640266e-05  \n",
      "311  8.482869e-04  2.176127e-03  0.001115  8.990438e-04  5.777172e-04  \n",
      "335  2.661871e-04  1.042823e-03  0.002300  4.241077e-03  1.092162e-04  \n",
      "407  7.097677e-04  3.105032e-05  0.002333  5.784713e-06  1.345836e-04  \n",
      "951  6.866635e-04  6.840906e-05  0.000264  1.620697e-04  4.546835e-05  \n",
      "646  6.111477e-04  5.555950e-04  0.002461  1.075431e-04  7.951838e-06  \n",
      "..            ...           ...       ...           ...           ...  \n",
      "503  2.394375e-03  1.193906e-07  0.006110  9.198907e-04  9.933535e-05  \n",
      "592  4.639605e-05  4.022019e-04  0.000513  6.351373e-05  1.244284e-03  \n",
      "535  2.147575e-05  5.099419e-04  0.001750  9.944506e-04  4.892603e-03  \n",
      "523  7.173962e-04  4.479288e-06  0.000585  1.712277e-04  2.457592e-03  \n",
      "516  2.530514e-03  1.345972e-03  0.004696  3.064217e-03  1.265296e-03  \n",
      "546  3.193805e-03  1.574086e-04  0.003856  3.385923e-04  8.435976e-05  \n",
      "570  4.509045e-04  5.371145e-05  0.001214  1.746251e-04  3.332518e-03  \n",
      "548  1.197583e-03  4.750870e-04  0.000232  1.653079e-03  2.563053e-04  \n",
      "536  6.647928e-04  3.892042e-03  0.000055  2.184032e-03  2.103243e-03  \n",
      "511  1.668608e-03  8.490359e-04  0.000123  2.182297e-04  2.550669e-04  \n",
      "589  1.740878e-04  2.268046e-04  0.000119  1.295563e-03  3.396565e-04  \n",
      "551  5.396468e-05  1.134911e-03  0.002595  2.193904e-03  5.653784e-04  \n",
      "12   1.880547e-04  1.582338e-04  0.000209  2.483002e-04  5.552112e-03  \n",
      "561  6.224305e-07  2.328765e-03  0.000314  3.695576e-04  4.041624e-03  \n",
      "593  1.799134e-04  2.994178e-03  0.000531  1.049349e-04  4.396141e-03  \n",
      "538  2.616702e-03  6.952030e-05  0.000188  1.196183e-03  1.006248e-03  \n",
      "513  4.729456e-04  2.393144e-03  0.000216  1.489271e-03  2.070691e-05  \n",
      "562  4.906342e-05  5.928371e-04  0.000388  4.560996e-03  6.137109e-04  \n",
      "554  3.206504e-03  5.550431e-05  0.000009  1.195883e-03  1.738772e-03  \n",
      "509  1.200272e-03  5.089868e-05  0.001015  4.643334e-05  5.472540e-05  \n",
      "599  1.842887e-03  1.513933e-03  0.000377  7.795727e-04  2.713468e-04  \n",
      "529  5.723262e-05  3.991384e-04  0.000058  2.203643e-04  8.029643e-04  \n",
      "568  6.044324e-05  6.371847e-04  0.000562  1.435694e-03  2.861014e-04  \n",
      "565  8.823607e-05  1.982298e-03  0.000024  4.785512e-06  1.027599e-03  \n",
      "582  1.858015e-04  4.856288e-03  0.006511  2.078748e-03  1.607969e-03  \n",
      "502  4.001847e-05  7.007418e-05  0.000007  1.933372e-04  3.478019e-04  \n",
      "540  1.234759e-04  2.358772e-04  0.001568  4.713514e-08  1.932326e-03  \n",
      "549  1.810570e-03  6.439220e-03  0.000140  7.684787e-04  7.939634e-05  \n",
      "584  1.721555e-03  1.250349e-03  0.005589  1.493021e-05  6.308779e-05  \n",
      "600  7.947305e-04  3.872935e-04  0.000027  4.067325e-04  1.955011e-03  \n",
      "\n",
      "[1000 rows x 40 columns]\n"
     ]
    }
   ],
   "source": [
    "sorted_genes = pca_loadings_df_genes.sort_values(by=['PCA_1'])\n",
    "print(sorted_genes)"
   ]
  },
  {
   "cell_type": "code",
   "execution_count": null,
   "metadata": {},
   "outputs": [],
   "source": [
    "tiro cluster analysis a ver si separa los dos grupos"
   ]
  }
 ],
 "metadata": {
  "kernelspec": {
   "display_name": "Python 3",
   "language": "python",
   "name": "python3"
  },
  "language_info": {
   "codemirror_mode": {
    "name": "ipython",
    "version": 3
   },
   "file_extension": ".py",
   "mimetype": "text/x-python",
   "name": "python",
   "nbconvert_exporter": "python",
   "pygments_lexer": "ipython3",
   "version": "3.6.8"
  }
 },
 "nbformat": 4,
 "nbformat_minor": 2
}
