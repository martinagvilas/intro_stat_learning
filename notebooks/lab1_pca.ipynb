{
 "cells": [
  {
   "cell_type": "markdown",
   "metadata": {
    "slideshow": {
     "slide_type": "slide"
    }
   },
   "source": [
    "# LAB 1 - PCA"
   ]
  },
  {
   "cell_type": "markdown",
   "metadata": {
    "slideshow": {
     "slide_type": "skip"
    }
   },
   "source": [
    "Disclaimer: This notebook is based and reproduces information from chapter 10 of the book [An Introduction to Statistical Learning with Applications in R](http://www-bcf.usc.edu/~gareth/ISL/) written by Gareth James, Daniela Witten, Trevor Hastie and Robert Tibshirani. All rights of the material belong to the authors."
   ]
  },
  {
   "cell_type": "markdown",
   "metadata": {
    "slideshow": {
     "slide_type": "slide"
    }
   },
   "source": [
    "## PRINCIPAL COMPONENT ANALYSIS (PCA)"
   ]
  },
  {
   "cell_type": "markdown",
   "metadata": {
    "slideshow": {
     "slide_type": "slide"
    }
   },
   "source": [
    "- PCA is an **unsupervised approach**:\n",
    "    \n",
    "    - We have only a set of features measured on n observations, but no response Y\n",
    "    \n",
    "    - This means we cannot easily assess the accuracy of the results obtained \n"
   ]
  },
  {
   "cell_type": "markdown",
   "metadata": {
    "slideshow": {
     "slide_type": "slide"
    }
   },
   "source": [
    "- PCA finds a **low-dimensional representation** of the data that captures as much of the information as possible\n",
    "\n",
    "    - Reduces an n x p data matrix by reducing the size of p (variables, also called features)\n"
   ]
  },
  {
   "cell_type": "markdown",
   "metadata": {
    "slideshow": {
     "slide_type": "slide"
    }
   },
   "source": [
    "- Principal component analysis (PCA) refers to the process by which **principal components** are computed"
   ]
  },
  {
   "cell_type": "markdown",
   "metadata": {
    "slideshow": {
     "slide_type": "slide"
    }
   },
   "source": [
    "### What is a principal component?\n",
    "\n",
    "- The first principal component direction of the data is that along which the observations vary the most.\n",
    "\n",
    "\n",
    "- Each of the component found by PCA is a **linear combination of the p features**:\n",
    "\n",
    "    ![image_linear_combination.png](../images/linear_combination_pca.png)\n"
   ]
  },
  {
   "cell_type": "markdown",
   "metadata": {
    "slideshow": {
     "slide_type": "slide"
    }
   },
   "source": [
    "#### Loading vectors\n",
    "\n",
    "- The elements φ11, . . . , φp1 are the loadings of the first principal component\n",
    "\n",
    "- Together, the loadings make up the principal component loading vector:\n",
    "\n",
    "    ![image_loading_vectors.png](../images/loading_vectors.png)\n",
    "\n",
    "\n",
    "\n",
    "- The loading vectors are normalized -> their sum of squares is equal to 1\n",
    "\n",
    "    ![image_normalized_loading_vectors.png](../images/normalized_loading_vectors.png)\n"
   ]
  },
  {
   "cell_type": "markdown",
   "metadata": {
    "slideshow": {
     "slide_type": "slide"
    }
   },
   "source": [
    "#### Principal component scores\n",
    "- The values of z11, . . . , zn1 are the principal component scores\n"
   ]
  },
  {
   "cell_type": "markdown",
   "metadata": {
    "slideshow": {
     "slide_type": "slide"
    }
   },
   "source": [
    "#### Geometric interpretation\n",
    "- Principal component loading vectors -> directions in feature space along which the data vary the most\n",
    "\n",
    "\n",
    "- Principal component scores -> projections along these direction\n"
   ]
  },
  {
   "cell_type": "markdown",
   "metadata": {
    "slideshow": {
     "slide_type": "slide"
    }
   },
   "source": [
    "#### Alternative interpretation of the principal components \n",
    "- The first principal component vector defines the line that is as close as possible to the original observations \n",
    "    \n",
    "    - It minimizes the sum of squared distances from each point to the plane\n",
    "\n",
    "        ![image_pca_closeness.png](../images/pca_closeness.png)\n"
   ]
  },
  {
   "cell_type": "markdown",
   "metadata": {
    "slideshow": {
     "slide_type": "slide"
    }
   },
   "source": [
    "### How do we compute the first principal component?\n",
    "\n",
    "1. Since we are only interested in variance, we assume that each of the variables in X has been centered to have mean zero \n",
    "\n",
    "\n",
    "2. We then look for the linear combination of the sample feature values that has the largest variance, which solves the optimization problem: \n",
    "\n",
    "    ![image_optimization_pca.png](../images/optimization_pca.png)\n",
    "\n",
    "\n",
    "3. We then look for the second principal component, which is the linear combination of X1, . . . , Xp that has maximal variance out of all linear combinations that are uncorrelated/orthogonal/perpendicular with Z1\n",
    "\n"
   ]
  },
  {
   "cell_type": "markdown",
   "metadata": {
    "slideshow": {
     "slide_type": "slide"
    }
   },
   "source": [
    "Let's use the dataset USA-ARRESTS to put into practice these concepts:"
   ]
  },
  {
   "cell_type": "markdown",
   "metadata": {
    "slideshow": {
     "slide_type": "slide"
    }
   },
   "source": [
    "## Load and prepare the dataset"
   ]
  },
  {
   "cell_type": "code",
   "execution_count": 35,
   "metadata": {
    "slideshow": {
     "slide_type": "skip"
    }
   },
   "outputs": [],
   "source": [
    "import numpy as np\n",
    "import pandas as pd\n",
    "\n",
    "import matplotlib.pyplot as plt\n",
    "%matplotlib inline\n",
    "\n",
    "from sklearn.preprocessing import StandardScaler\n",
    "from sklearn.decomposition import PCA"
   ]
  },
  {
   "cell_type": "markdown",
   "metadata": {
    "slideshow": {
     "slide_type": "slide"
    }
   },
   "source": [
    "Let's import and print the USA arrest data:"
   ]
  },
  {
   "cell_type": "code",
   "execution_count": 36,
   "metadata": {
    "slideshow": {
     "slide_type": "fragment"
    }
   },
   "outputs": [
    {
     "name": "stdout",
     "output_type": "stream",
     "text": [
      "                Murder  Assault  UrbanPop  Rape\n",
      "Alabama           13.2      236        58  21.2\n",
      "Alaska            10.0      263        48  44.5\n",
      "Arizona            8.1      294        80  31.0\n",
      "Arkansas           8.8      190        50  19.5\n",
      "California         9.0      276        91  40.6\n",
      "Colorado           7.9      204        78  38.7\n",
      "Connecticut        3.3      110        77  11.1\n",
      "Delaware           5.9      238        72  15.8\n",
      "Florida           15.4      335        80  31.9\n",
      "Georgia           17.4      211        60  25.8\n",
      "Hawaii             5.3       46        83  20.2\n",
      "Idaho              2.6      120        54  14.2\n",
      "Illinois          10.4      249        83  24.0\n",
      "Indiana            7.2      113        65  21.0\n",
      "Iowa               2.2       56        57  11.3\n",
      "Kansas             6.0      115        66  18.0\n",
      "Kentucky           9.7      109        52  16.3\n",
      "Louisiana         15.4      249        66  22.2\n",
      "Maine              2.1       83        51   7.8\n",
      "Maryland          11.3      300        67  27.8\n",
      "Massachusetts      4.4      149        85  16.3\n",
      "Michigan          12.1      255        74  35.1\n",
      "Minnesota          2.7       72        66  14.9\n",
      "Mississippi       16.1      259        44  17.1\n",
      "Missouri           9.0      178        70  28.2\n",
      "Montana            6.0      109        53  16.4\n",
      "Nebraska           4.3      102        62  16.5\n",
      "Nevada            12.2      252        81  46.0\n",
      "New Hampshire      2.1       57        56   9.5\n",
      "New Jersey         7.4      159        89  18.8\n",
      "New Mexico        11.4      285        70  32.1\n",
      "New York          11.1      254        86  26.1\n",
      "North Carolina    13.0      337        45  16.1\n",
      "North Dakota       0.8       45        44   7.3\n",
      "Ohio               7.3      120        75  21.4\n",
      "Oklahoma           6.6      151        68  20.0\n",
      "Oregon             4.9      159        67  29.3\n",
      "Pennsylvania       6.3      106        72  14.9\n",
      "Rhode Island       3.4      174        87   8.3\n",
      "South Carolina    14.4      279        48  22.5\n",
      "South Dakota       3.8       86        45  12.8\n",
      "Tennessee         13.2      188        59  26.9\n",
      "Texas             12.7      201        80  25.5\n",
      "Utah               3.2      120        80  22.9\n",
      "Vermont            2.2       48        32  11.2\n",
      "Virginia           8.5      156        63  20.7\n",
      "Washington         4.0      145        73  26.2\n",
      "West Virginia      5.7       81        39   9.3\n",
      "Wisconsin          2.6       53        66  10.8\n",
      "Wyoming            6.8      161        60  15.6\n"
     ]
    }
   ],
   "source": [
    "# Load and print USA arrest data\n",
    "usarrest_df = pd.read_csv('../data/usa_arrest.csv')\n",
    "print(usarrest_df)"
   ]
  },
  {
   "cell_type": "markdown",
   "metadata": {
    "slideshow": {
     "slide_type": "fragment"
    }
   },
   "source": [
    "For each of the 50 states in the United States, the data set contains the number of arrests per 100, 000 residents for each of three crimes: Assault, Murder, and Rape. It also contains the percent of the population in each state living in urban areas.\n",
    "\n",
    "Notice that the variables are measured in different units."
   ]
  },
  {
   "cell_type": "markdown",
   "metadata": {
    "slideshow": {
     "slide_type": "slide"
    }
   },
   "source": [
    "Let's explore the mean, variance and standard deviation of each variable (feature):"
   ]
  },
  {
   "cell_type": "code",
   "execution_count": 37,
   "metadata": {
    "slideshow": {
     "slide_type": "fragment"
    }
   },
   "outputs": [
    {
     "data": {
      "text/plain": [
       "Murder        7.788\n",
       "Assault     170.760\n",
       "UrbanPop     65.540\n",
       "Rape         21.232\n",
       "dtype: float64"
      ]
     },
     "execution_count": 37,
     "metadata": {},
     "output_type": "execute_result"
    }
   ],
   "source": [
    "# Print mean value of each feature\n",
    "usarrest_df.mean()"
   ]
  },
  {
   "cell_type": "code",
   "execution_count": 38,
   "metadata": {
    "slideshow": {
     "slide_type": "fragment"
    }
   },
   "outputs": [
    {
     "data": {
      "text/plain": [
       "Murder        18.970465\n",
       "Assault     6945.165714\n",
       "UrbanPop     209.518776\n",
       "Rape          87.729159\n",
       "dtype: float64"
      ]
     },
     "execution_count": 38,
     "metadata": {},
     "output_type": "execute_result"
    }
   ],
   "source": [
    "# Print variance value of each feature\n",
    "usarrest_df.var()"
   ]
  },
  {
   "cell_type": "code",
   "execution_count": 39,
   "metadata": {
    "slideshow": {
     "slide_type": "fragment"
    }
   },
   "outputs": [
    {
     "data": {
      "text/plain": [
       "Murder       4.355510\n",
       "Assault     83.337661\n",
       "UrbanPop    14.474763\n",
       "Rape         9.366385\n",
       "dtype: float64"
      ]
     },
     "execution_count": 39,
     "metadata": {},
     "output_type": "execute_result"
    }
   ],
   "source": [
    "# Print std of each feature\n",
    "usarrest_df.std()"
   ]
  },
  {
   "cell_type": "markdown",
   "metadata": {
    "slideshow": {
     "slide_type": "fragment"
    }
   },
   "source": [
    "We can observe that features differ greatly in their mean, variance and standard deviation. \n",
    "\n",
    "This is information to keep in mind when performing principal component analysis (PCA)."
   ]
  },
  {
   "cell_type": "markdown",
   "metadata": {
    "slideshow": {
     "slide_type": "slide"
    }
   },
   "source": [
    "Next, let's put the data into the right formats for performing PCA. We will begin by creating separate arrays containing the values of the observations and the features:"
   ]
  },
  {
   "cell_type": "code",
   "execution_count": 40,
   "metadata": {
    "slideshow": {
     "slide_type": "fragment"
    }
   },
   "outputs": [],
   "source": [
    "# Create array of states\n",
    "states = usarrest_df.index.get_values()\n",
    "\n",
    "# Create arrays of features\n",
    "features = usarrest_df.columns.get_values()"
   ]
  },
  {
   "cell_type": "markdown",
   "metadata": {
    "slideshow": {
     "slide_type": "slide"
    }
   },
   "source": [
    "We will also convert the whole dataset to numpy array to give it as input to scikit-learn:"
   ]
  },
  {
   "cell_type": "code",
   "execution_count": 41,
   "metadata": {
    "slideshow": {
     "slide_type": "fragment"
    }
   },
   "outputs": [],
   "source": [
    "# Convert data to numpy array\n",
    "usarrest = usarrest_df.loc[:, features].values"
   ]
  },
  {
   "cell_type": "markdown",
   "metadata": {
    "slideshow": {
     "slide_type": "slide"
    }
   },
   "source": [
    "- The results obtained when we perform PCA will depend on whether the variables have been individually scaled (each multiplied by a different constant)\n",
    "\n",
    "\n",
    "- In our case, if we do not scale the data, the principal component loading vector will have a very large loading for Assault, since that variable has by far the highest variance.\n"
   ]
  },
  {
   "cell_type": "markdown",
   "metadata": {
    "slideshow": {
     "slide_type": "slide"
    }
   },
   "source": [
    "Let's convert the data to have mean 0 and std 1, since feature's values are in different scale:"
   ]
  },
  {
   "cell_type": "code",
   "execution_count": 42,
   "metadata": {
    "slideshow": {
     "slide_type": "fragment"
    }
   },
   "outputs": [],
   "source": [
    "# Standarize dataset\n",
    "scaler = StandardScaler()\n",
    "usarrest_scaled = scaler.fit_transform(usarrest)"
   ]
  },
  {
   "cell_type": "markdown",
   "metadata": {
    "slideshow": {
     "slide_type": "slide"
    }
   },
   "source": [
    "## Perform PCA"
   ]
  },
  {
   "cell_type": "markdown",
   "metadata": {
    "slideshow": {
     "slide_type": "slide"
    }
   },
   "source": [
    "Finally, let's perform PCA over the scaled data:"
   ]
  },
  {
   "cell_type": "code",
   "execution_count": 43,
   "metadata": {
    "slideshow": {
     "slide_type": "fragment"
    }
   },
   "outputs": [],
   "source": [
    "# Perform PCA\n",
    "pca = PCA()\n",
    "pca_score_vectors = pca.fit_transform(usarrest_scaled)   # store score vectors in new variable"
   ]
  },
  {
   "cell_type": "markdown",
   "metadata": {
    "slideshow": {
     "slide_type": "slide"
    }
   },
   "source": [
    "Let's examine each PCA loading vector:"
   ]
  },
  {
   "cell_type": "code",
   "execution_count": 44,
   "metadata": {
    "slideshow": {
     "slide_type": "fragment"
    }
   },
   "outputs": [
    {
     "name": "stdout",
     "output_type": "stream",
     "text": [
      "             PCA_1     PCA_2     PCA_3     PCA_4\n",
      "Murder    0.535899  0.418181 -0.341233  0.649228\n",
      "Assault   0.583184  0.187986 -0.268148 -0.743407\n",
      "UrbanPop  0.278191 -0.872806 -0.378016  0.133878\n",
      "Rape      0.543432 -0.167319  0.817778  0.089024\n"
     ]
    }
   ],
   "source": [
    "# Print PCA loadings\n",
    "columns_pca = ['PCA_' + str(pca +1) for pca in range(0, np.shape(pca_score_vectors)[1])]\n",
    "pca_loadings = (pca.components_).T\n",
    "pca_loadings_df = pd.DataFrame(pca_loadings,\n",
    "                               index=features, \n",
    "                               columns=columns_pca)\n",
    "print(pca_loadings_df)"
   ]
  },
  {
   "cell_type": "markdown",
   "metadata": {
    "slideshow": {
     "slide_type": "slide"
    }
   },
   "source": [
    "Let's examine each PCA score vector:"
   ]
  },
  {
   "cell_type": "code",
   "execution_count": 45,
   "metadata": {
    "slideshow": {
     "slide_type": "fragment"
    }
   },
   "outputs": [
    {
     "name": "stdout",
     "output_type": "stream",
     "text": [
      "                   PCA_1     PCA_2     PCA_3     PCA_4\n",
      "Alabama         0.985566  1.133392 -0.444269  0.156267\n",
      "Alaska          1.950138  1.073213  2.040003 -0.438583\n",
      "Arizona         1.763164 -0.745957  0.054781 -0.834653\n",
      "Arkansas       -0.141420  1.119797  0.114574 -0.182811\n",
      "California      2.523980 -1.542934  0.598557 -0.341996\n",
      "Colorado        1.514563 -0.987555  1.095007  0.001465\n",
      "Connecticut    -1.358647 -1.088928 -0.643258 -0.118469\n",
      "Delaware        0.047709 -0.325359 -0.718633 -0.881978\n",
      "Florida         3.013042  0.039229 -0.576829 -0.096285\n",
      "Georgia         1.639283  1.278942 -0.342460  1.076797\n",
      "Hawaii         -0.912657 -1.570460  0.050782  0.902807\n",
      "Idaho          -1.639800  0.210973  0.259801 -0.499104\n",
      "Illinois        1.378911 -0.681841 -0.677496 -0.122021\n",
      "Indiana        -0.505461 -0.151563  0.228055  0.424666\n",
      "Iowa           -2.253646 -0.104054  0.164564  0.017556\n",
      "Kansas         -0.796881 -0.270165  0.025553  0.206496\n",
      "Kentucky       -0.750859  0.958440 -0.028369  0.670557\n",
      "Louisiana       1.564818  0.871055 -0.783480  0.454728\n",
      "Maine          -2.396829  0.376392 -0.065682 -0.330460\n",
      "Maryland        1.763369  0.427655 -0.157250 -0.559070\n",
      "Massachusetts  -0.486166 -1.474496 -0.609497 -0.179599\n",
      "Michigan        2.108441 -0.155397  0.384869  0.102372\n",
      "Minnesota      -1.692682 -0.632261  0.153070  0.067317\n",
      "Mississippi     0.996494  2.393796 -0.740808  0.215508\n",
      "Missouri        0.696787 -0.263355  0.377444  0.225824\n",
      "Montana        -1.185452  0.536874  0.246889  0.123742\n",
      "Nebraska       -1.265637 -0.193954  0.175574  0.015893\n",
      "Nevada          2.874395 -0.775600  1.163380  0.314515\n",
      "New Hampshire  -2.383915 -0.018082  0.036855 -0.033137\n",
      "New Jersey      0.181566 -1.449506 -0.764454  0.243383\n",
      "New Mexico      1.980024  0.142849  0.183692 -0.339534\n",
      "New York        1.682577 -0.823184 -0.643075 -0.013484\n",
      "North Carolina  1.123379  2.228003 -0.863572 -0.954382\n",
      "North Dakota   -2.992226  0.599119  0.301277 -0.253987\n",
      "Ohio           -0.225965 -0.742238 -0.031139  0.473916\n",
      "Oklahoma       -0.311783 -0.287854 -0.015310  0.010332\n",
      "Oregon          0.059122 -0.541411  0.939833 -0.237781\n",
      "Pennsylvania   -0.888416 -0.571100 -0.400629  0.359061\n",
      "Rhode Island   -0.863772 -1.491978 -1.369946 -0.613569\n",
      "South Carolina  1.320724  1.933405 -0.300538 -0.131467\n",
      "South Dakota   -1.987775  0.823343  0.389293 -0.109572\n",
      "Tennessee       0.999742  0.860251  0.188083  0.652864\n",
      "Texas           1.355138 -0.412481 -0.492069  0.643195\n",
      "Utah           -0.550565 -1.471505  0.293728 -0.082314\n",
      "Vermont        -2.801412  1.402288  0.841263 -0.144890\n",
      "Virginia       -0.096335  0.199735  0.011713  0.211371\n",
      "Washington     -0.216903 -0.970124  0.624871 -0.220848\n",
      "West Virginia  -2.108585  1.424847  0.104775  0.131909\n",
      "Wisconsin      -2.079714 -0.611269 -0.138865  0.184104\n",
      "Wyoming        -0.629427  0.321013 -0.240659 -0.166652\n"
     ]
    }
   ],
   "source": [
    "# Print principal component score vectors\n",
    "pca_score_vectors_df = pd.DataFrame(pca_score_vectors, \n",
    "                                    index=states, \n",
    "                                    columns=columns_pca)\n",
    "print(pca_score_vectors_df)"
   ]
  },
  {
   "cell_type": "markdown",
   "metadata": {
    "slideshow": {
     "slide_type": "slide"
    }
   },
   "source": [
    "As a sanity check, let's make sure that the product of our scaled dataset and the loadings of the first component returns the score vectors that we obtained for the first component:"
   ]
  },
  {
   "cell_type": "code",
   "execution_count": 46,
   "metadata": {
    "slideshow": {
     "slide_type": "fragment"
    }
   },
   "outputs": [
    {
     "name": "stdout",
     "output_type": "stream",
     "text": [
      "[ 0.98556588  1.95013775  1.76316354 -0.14142029  2.52398013  1.51456286\n",
      " -1.35864746  0.04770931  3.01304227  1.63928304 -0.91265715 -1.63979985\n",
      "  1.37891072 -0.50546136 -2.25364607 -0.79688112 -0.75085907  1.56481798\n",
      " -2.39682949  1.76336939 -0.48616629  2.10844115 -1.69268181  0.99649446\n",
      "  0.69678733 -1.18545191 -1.26563654  2.87439454 -2.38391541  0.18156611\n",
      "  1.98002375  1.68257738  1.12337861 -2.99222562 -0.22596542 -0.31178286\n",
      "  0.05912208 -0.88841582 -0.86377206  1.3207238  -1.98777484  0.99974168\n",
      "  1.35513821 -0.55056526 -2.80141174 -0.09633491 -0.21690338 -2.10858541\n",
      " -2.07971417 -0.62942666]\n"
     ]
    }
   ],
   "source": [
    "# Compute dot product between X and loadings of the first component\n",
    "pca1_score_vectors = np.dot(usarrest_scaled, pca_loadings[:,0])\n",
    "print(pca1_score_vectors)"
   ]
  },
  {
   "cell_type": "markdown",
   "metadata": {
    "slideshow": {
     "slide_type": "skip"
    }
   },
   "source": [
    "We observe that our vector is the same as that returned by scikit-learn"
   ]
  },
  {
   "cell_type": "markdown",
   "metadata": {
    "slideshow": {
     "slide_type": "slide"
    }
   },
   "source": [
    "## Plot PCA results"
   ]
  },
  {
   "cell_type": "markdown",
   "metadata": {
    "slideshow": {
     "slide_type": "slide"
    }
   },
   "source": [
    "- A biplot is a useful way of visualizing the results of PCA\n",
    "\n",
    "\n",
    "- It displays both the principal component scores and the principal component loadings"
   ]
  },
  {
   "cell_type": "markdown",
   "metadata": {
    "slideshow": {
     "slide_type": "slide"
    }
   },
   "source": [
    "Let's make a biplot of the first two components:"
   ]
  },
  {
   "cell_type": "code",
   "execution_count": 47,
   "metadata": {
    "slideshow": {
     "slide_type": "fragment"
    }
   },
   "outputs": [
    {
     "data": {
      "image/png": "[encoded data removed]",
      "text/plain": [
       "<Figure size 504x504 with 3 Axes>"
      ]
     },
     "metadata": {
      "needs_background": "light"
     },
     "output_type": "display_data"
    }
   ],
   "source": [
    "# Biplot of the first two components\n",
    "fig, ax1 = plt.subplots(figsize=(7, 7));\n",
    "\n",
    "rect = 0, 0, 1, 1  \n",
    "\n",
    "# plot score points\n",
    "ax1 = fig.add_axes(rect)\n",
    "\n",
    "ax1.scatter(pca_score_vectors[:,0], pca_score_vectors[:,1],\n",
    "           alpha=0.3)\n",
    "for i in range(pca_score_vectors.shape[0]):\n",
    "    ax1.text(pca_score_vectors[i,0], pca_score_vectors[i,1], states[i],\n",
    "             alpha=0.8)\n",
    "\n",
    "min_sv = np.min(pca_score_vectors[:,0:2])\n",
    "max_sv = np.max(pca_score_vectors[:,0:2])\n",
    "ax1.set_xlim(min_sv - 0.5, max_sv + 0.5)\n",
    "ax1.set_ylim(min_sv - 0.5, max_sv + 0.5)\n",
    "\n",
    "ax1.set_xlabel('PCA_1')\n",
    "ax1.set_ylabel('PCA_2')\n",
    "\n",
    "# plot loading vectors\n",
    "ax2 = fig.add_axes(rect,  frameon=False)\n",
    "\n",
    "for i in range(pca_loadings.shape[0]):\n",
    "    ax2.arrow(0, 0, pca_loadings[i,0], pca_loadings[i,1], \n",
    "              color = 'r', alpha = 1,\n",
    "              head_width=0.02, head_length=0.02)\n",
    "    ax2.text(pca_loadings[i,0]* 1.2,  pca_loadings[i,1] * 1.1, features[i], \n",
    "             color = 'r', ha = 'center', va = 'center')\n",
    "    \n",
    "ax2.set_xlim(-1,1)\n",
    "ax2.set_ylim(-1,1)\n",
    "\n",
    "ax2.yaxis.tick_right()\n",
    "ax2.yaxis.set_ticks([-0.5, 0, 0.5])\n",
    "ax2.yaxis.set_label_position('right')\n",
    "ax2.xaxis.tick_top()\n",
    "ax2.xaxis.set_ticks([-0.5, 0, 0.5])\n",
    "ax2.xaxis.set_label_position('top')\n",
    "\n",
    "ax2.grid()    \n"
   ]
  },
  {
   "cell_type": "markdown",
   "metadata": {
    "slideshow": {
     "slide_type": "fragment"
    }
   },
   "source": [
    "In chapter 10, the authors intepret from the plot the following: \n",
    "\n",
    "- The first loading vector places approximately equal weight on Assault, Murder, and Rape, with much less weight on UrbanPop. Hence this component roughly corresponds to a measure of overall rates of serious crimes. \n",
    "\n",
    "- The second loading vector places most of its weight on UrbanPop and much less weight on the other three features. Hence, this component roughly corresponds to the level of urbanization of the state.\n",
    "\n",
    "- Overall, we see that the crime-related variables (Murder, Assault, and Rape) are located close to each other, and that the UrbanPop variable is far from the other three. This indicates that the crime-related variables are correlated with each other—states with high murder rates tend to have high assault and rape rates—and that the UrbanPop variable is less correlated with the other three.\n",
    "\n",
    "\n",
    "- States with large positive scores on the first component, such as California, Nevada and Florida, have high crime rates, while states like North Dakota, with negative scores on the first component, have low crime rates. \n",
    "\n",
    "- California also has a high score on the second component, indicating a high level of urbanization, while the opposite is true for states like Mississippi. \n",
    "\n",
    "- States close to zero on both components, such as Indiana, have approximately average levels of both crime and urbanization."
   ]
  },
  {
   "cell_type": "markdown",
   "metadata": {
    "slideshow": {
     "slide_type": "slide"
    }
   },
   "source": [
    "## Compute the proportion of variance explained by each component"
   ]
  },
  {
   "cell_type": "markdown",
   "metadata": {
    "slideshow": {
     "slide_type": "slide"
    }
   },
   "source": [
    "- Important to know how much of the information in a given data set is lost by projecting the observations onto the first few principal components\n",
    "\n",
    "\n",
    "- This can be answered by knowing the proportion of variance explained (PVE) by each component.\n"
   ]
  },
  {
   "cell_type": "markdown",
   "metadata": {
    "slideshow": {
     "slide_type": "slide"
    }
   },
   "source": [
    "- The proportion of the variance explained by the mth component is the total variance of the dataset divided by the variance explained by the mth component \n",
    "\n",
    "- The total variance of a dataset is defined as:\n",
    "\n",
    "    ![image_total_variance.png](../images/total_variance.png)\n",
    "\n",
    "- The variance explained by the _m_th component is defined as:\n",
    "\n",
    "    ![image_variance_component.png](../images/variance_component.png)\n",
    "\n",
    "- Therefore, the PVE is given by: \n",
    "\n",
    "    ![image_PVE.png](../images/PVE.png)\n"
   ]
  },
  {
   "cell_type": "markdown",
   "metadata": {
    "slideshow": {
     "slide_type": "slide"
    }
   },
   "source": [
    "Let's compute the variance explained, and the proportion of variance explained, of each component with sci-kit learn:"
   ]
  },
  {
   "cell_type": "code",
   "execution_count": 48,
   "metadata": {
    "slideshow": {
     "slide_type": "fragment"
    }
   },
   "outputs": [
    {
     "name": "stdout",
     "output_type": "stream",
     "text": [
      "                   PCA_1     PCA_2     PCA_3     PCA_4\n",
      "Variance        2.530859  1.009964  0.363840  0.176969\n",
      "Variance_ratio  0.620060  0.247441  0.089141  0.043358\n"
     ]
    }
   ],
   "source": [
    "# Print explained variance by each component\n",
    "variance = pca.explained_variance_\n",
    "variance_ratio = pca.explained_variance_ratio_\n",
    "\n",
    "variance_df = pd.DataFrame([variance, variance_ratio], \n",
    "                           index = ['Variance', 'Variance_ratio'], \n",
    "                           columns=columns_pca)\n",
    "print(variance_df)"
   ]
  },
  {
   "cell_type": "markdown",
   "metadata": {
    "slideshow": {
     "slide_type": "slide"
    }
   },
   "source": [
    "### Plot PVE's"
   ]
  },
  {
   "cell_type": "markdown",
   "metadata": {
    "slideshow": {
     "slide_type": "fragment"
    }
   },
   "source": [
    "- We typically decide on the number of principal components required to visualize the data by examining a scree plot. \n",
    "\n",
    "\n",
    "- This is done by eyeballing the scree plot, and looking for a point at which the proportion of variance explained by each subsequent principal component drops off (often refered as the elbow in the scree plot)\n"
   ]
  },
  {
   "cell_type": "markdown",
   "metadata": {
    "slideshow": {
     "slide_type": "slide"
    }
   },
   "source": [
    "Let's plot the PVEs:"
   ]
  },
  {
   "cell_type": "code",
   "execution_count": 52,
   "metadata": {
    "slideshow": {
     "slide_type": "fragment"
    }
   },
   "outputs": [
    {
     "data": {
      "image/png": "[encoded data removed]",
      "text/plain": [
       "<Figure size 432x288 with 1 Axes>"
      ]
     },
     "metadata": {
      "needs_background": "light"
     },
     "output_type": "display_data"
    }
   ],
   "source": [
    "# Plot variance explained by each component \n",
    "plt.plot(variance_df.loc['Variance_ratio'])\n",
    "plt.title('Proportion of variance explained by each component')\n",
    "plt.ylabel('Variance Ratio');\n",
    "plt.xlabel('Component');"
   ]
  },
  {
   "cell_type": "markdown",
   "metadata": {
    "slideshow": {
     "slide_type": "slide"
    }
   },
   "source": [
    "### Cumulative sum of PVE's"
   ]
  },
  {
   "cell_type": "markdown",
   "metadata": {
    "slideshow": {
     "slide_type": "fragment"
    }
   },
   "source": [
    "We can also decide to examine the cumulative sum of PVE's:"
   ]
  },
  {
   "cell_type": "code",
   "execution_count": 51,
   "metadata": {
    "slideshow": {
     "slide_type": "fragment"
    }
   },
   "outputs": [
    {
     "data": {
      "image/png": "[encoded data removed]",
      "text/plain": [
       "<Figure size 432x288 with 1 Axes>"
      ]
     },
     "metadata": {
      "needs_background": "light"
     },
     "output_type": "display_data"
    }
   ],
   "source": [
    "# Plot cumulative sum of variance explained by each component\n",
    "cumulative_values = np.cumsum(variance_ratio)\n",
    "\n",
    "plt.plot(cumulative_values)\n",
    "plt.title('Cumulative proportion of variance explained')\n",
    "plt.ylabel('Variance Ratio');\n",
    "plt.xlabel('Component');"
   ]
  },
  {
   "cell_type": "markdown",
   "metadata": {
    "slideshow": {
     "slide_type": "slide"
    }
   },
   "source": [
    "## Other uses of PCA\n",
    "\n",
    "- Apart from producing derived variables for use in supervised learning problems, PCA also serves as a tool for data visualization\n",
    "\n",
    "- We can also use the principal component score vectors as features for other analyses, such as regression, classification, and clustering (using as input the n × M matrix) "
   ]
  }
 ],
 "metadata": {
  "celltoolbar": "Slideshow",
  "kernelspec": {
   "display_name": "Python 3",
   "language": "python",
   "name": "python3"
  },
  "language_info": {
   "codemirror_mode": {
    "name": "ipython",
    "version": 3
   },
   "file_extension": ".py",
   "mimetype": "text/x-python",
   "name": "python",
   "nbconvert_exporter": "python",
   "pygments_lexer": "ipython3",
   "version": "3.6.8"
  }
 },
 "nbformat": 4,
 "nbformat_minor": 2
}
