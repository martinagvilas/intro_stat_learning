{
 "cells": [
  {
   "cell_type": "markdown",
   "metadata": {},
   "source": [
    "# LAB 1 - PCA"
   ]
  },
  {
   "cell_type": "code",
   "execution_count": 55,
   "metadata": {},
   "outputs": [],
   "source": [
    "import numpy as np\n",
    "import pandas as pd\n",
    "\n",
    "import matplotlib.pyplot as plt\n",
    "%matplotlib inline\n",
    "\n",
    "from sklearn.preprocessing import StandardScaler\n",
    "from sklearn.decomposition import PCA"
   ]
  },
  {
   "cell_type": "markdown",
   "metadata": {},
   "source": [
    "Let's import and print the USA arrest data:"
   ]
  },
  {
   "cell_type": "code",
   "execution_count": 56,
   "metadata": {},
   "outputs": [
    {
     "name": "stdout",
     "output_type": "stream",
     "text": [
      "                Murder  Assault  UrbanPop  Rape\n",
      "Alabama           13.2      236        58  21.2\n",
      "Alaska            10.0      263        48  44.5\n",
      "Arizona            8.1      294        80  31.0\n",
      "Arkansas           8.8      190        50  19.5\n",
      "California         9.0      276        91  40.6\n",
      "Colorado           7.9      204        78  38.7\n",
      "Connecticut        3.3      110        77  11.1\n",
      "Delaware           5.9      238        72  15.8\n",
      "Florida           15.4      335        80  31.9\n",
      "Georgia           17.4      211        60  25.8\n",
      "Hawaii             5.3       46        83  20.2\n",
      "Idaho              2.6      120        54  14.2\n",
      "Illinois          10.4      249        83  24.0\n",
      "Indiana            7.2      113        65  21.0\n",
      "Iowa               2.2       56        57  11.3\n",
      "Kansas             6.0      115        66  18.0\n",
      "Kentucky           9.7      109        52  16.3\n",
      "Louisiana         15.4      249        66  22.2\n",
      "Maine              2.1       83        51   7.8\n",
      "Maryland          11.3      300        67  27.8\n",
      "Massachusetts      4.4      149        85  16.3\n",
      "Michigan          12.1      255        74  35.1\n",
      "Minnesota          2.7       72        66  14.9\n",
      "Mississippi       16.1      259        44  17.1\n",
      "Missouri           9.0      178        70  28.2\n",
      "Montana            6.0      109        53  16.4\n",
      "Nebraska           4.3      102        62  16.5\n",
      "Nevada            12.2      252        81  46.0\n",
      "New Hampshire      2.1       57        56   9.5\n",
      "New Jersey         7.4      159        89  18.8\n",
      "New Mexico        11.4      285        70  32.1\n",
      "New York          11.1      254        86  26.1\n",
      "North Carolina    13.0      337        45  16.1\n",
      "North Dakota       0.8       45        44   7.3\n",
      "Ohio               7.3      120        75  21.4\n",
      "Oklahoma           6.6      151        68  20.0\n",
      "Oregon             4.9      159        67  29.3\n",
      "Pennsylvania       6.3      106        72  14.9\n",
      "Rhode Island       3.4      174        87   8.3\n",
      "South Carolina    14.4      279        48  22.5\n",
      "South Dakota       3.8       86        45  12.8\n",
      "Tennessee         13.2      188        59  26.9\n",
      "Texas             12.7      201        80  25.5\n",
      "Utah               3.2      120        80  22.9\n",
      "Vermont            2.2       48        32  11.2\n",
      "Virginia           8.5      156        63  20.7\n",
      "Washington         4.0      145        73  26.2\n",
      "West Virginia      5.7       81        39   9.3\n",
      "Wisconsin          2.6       53        66  10.8\n",
      "Wyoming            6.8      161        60  15.6\n"
     ]
    }
   ],
   "source": [
    "# Load and print USA arrest data\n",
    "usarrest_df = pd.read_csv('../data/usa_arrest.csv')\n",
    "print(usarrest_df)"
   ]
  },
  {
   "cell_type": "markdown",
   "metadata": {},
   "source": [
    "We can observe that the scale of the values in each feature differs."
   ]
  },
  {
   "cell_type": "markdown",
   "metadata": {},
   "source": [
    "Let's explore the mean, variance and standard deviation of each variable (feature):"
   ]
  },
  {
   "cell_type": "code",
   "execution_count": 57,
   "metadata": {},
   "outputs": [
    {
     "data": {
      "text/plain": [
       "Murder        7.788\n",
       "Assault     170.760\n",
       "UrbanPop     65.540\n",
       "Rape         21.232\n",
       "dtype: float64"
      ]
     },
     "execution_count": 57,
     "metadata": {},
     "output_type": "execute_result"
    }
   ],
   "source": [
    "# Print mean value of each feature\n",
    "usarrest_df.mean()"
   ]
  },
  {
   "cell_type": "code",
   "execution_count": 58,
   "metadata": {},
   "outputs": [
    {
     "data": {
      "text/plain": [
       "Murder        18.970465\n",
       "Assault     6945.165714\n",
       "UrbanPop     209.518776\n",
       "Rape          87.729159\n",
       "dtype: float64"
      ]
     },
     "execution_count": 58,
     "metadata": {},
     "output_type": "execute_result"
    }
   ],
   "source": [
    "# Print variance value of each feature\n",
    "usarrest_df.var()"
   ]
  },
  {
   "cell_type": "code",
   "execution_count": 59,
   "metadata": {},
   "outputs": [
    {
     "data": {
      "text/plain": [
       "Murder       4.355510\n",
       "Assault     83.337661\n",
       "UrbanPop    14.474763\n",
       "Rape         9.366385\n",
       "dtype: float64"
      ]
     },
     "execution_count": 59,
     "metadata": {},
     "output_type": "execute_result"
    }
   ],
   "source": [
    "# Print std\n",
    "usarrest_df.std()"
   ]
  },
  {
   "cell_type": "markdown",
   "metadata": {},
   "source": [
    "Let's create arrays containing the values of the observations and the features, separetely:"
   ]
  },
  {
   "cell_type": "code",
   "execution_count": 60,
   "metadata": {},
   "outputs": [],
   "source": [
    "# Create array of states\n",
    "states = usarrest_df.index.get_values()\n",
    "\n",
    "# Create arrays of features\n",
    "features = usarrest_df.columns.get_values()"
   ]
  },
  {
   "cell_type": "markdown",
   "metadata": {},
   "source": [
    "Let's convert the data to numpy array to give it as input to scikit-learn:"
   ]
  },
  {
   "cell_type": "code",
   "execution_count": 61,
   "metadata": {},
   "outputs": [],
   "source": [
    "# Convert data to numpy array\n",
    "usarrest = usarrest_df.loc[:, features].values"
   ]
  },
  {
   "cell_type": "markdown",
   "metadata": {},
   "source": [
    "Let's convert the data to have mean 0 and std 1, since feature's values are in different scale:"
   ]
  },
  {
   "cell_type": "code",
   "execution_count": 62,
   "metadata": {},
   "outputs": [],
   "source": [
    "# Standarize dataset\n",
    "usarrest_scaled = StandardScaler().fit_transform(usarrest)"
   ]
  },
  {
   "cell_type": "markdown",
   "metadata": {},
   "source": [
    "Finally, let's perform PCA:"
   ]
  },
  {
   "cell_type": "code",
   "execution_count": 63,
   "metadata": {},
   "outputs": [],
   "source": [
    "# Perform PCA\n",
    "pca = PCA()\n",
    "pca_score_vectors = pca.fit_transform(usarrest_scaled)   # store score vectors in new variable"
   ]
  },
  {
   "cell_type": "markdown",
   "metadata": {},
   "source": [
    "Let's examine each PCA loading vector:"
   ]
  },
  {
   "cell_type": "code",
   "execution_count": 64,
   "metadata": {},
   "outputs": [
    {
     "name": "stdout",
     "output_type": "stream",
     "text": [
      "              PCA1      PCA2      PCA3      PCA4\n",
      "Murder    0.535899  0.418181 -0.341233  0.649228\n",
      "Assault   0.583184  0.187986 -0.268148 -0.743407\n",
      "UrbanPop  0.278191 -0.872806 -0.378016  0.133878\n",
      "Rape      0.543432 -0.167319  0.817778  0.089024\n"
     ]
    }
   ],
   "source": [
    "# Print PCA loadings\n",
    "columns_pca = ['PCA1', 'PCA2', 'PCA3', 'PCA4']\n",
    "pca_loadings = (pca.components_).T\n",
    "pca_loadings_df = pd.DataFrame(pca_loadings, index=features, columns=columns_pca)\n",
    "print(pca_loadings_df)"
   ]
  },
  {
   "cell_type": "markdown",
   "metadata": {},
   "source": [
    "Let's examine each PCA score vector:"
   ]
  },
  {
   "cell_type": "code",
   "execution_count": 65,
   "metadata": {},
   "outputs": [
    {
     "name": "stdout",
     "output_type": "stream",
     "text": [
      "                    PCA1      PCA2      PCA3      PCA4\n",
      "Alabama         0.985566  1.133392 -0.444269  0.156267\n",
      "Alaska          1.950138  1.073213  2.040003 -0.438583\n",
      "Arizona         1.763164 -0.745957  0.054781 -0.834653\n",
      "Arkansas       -0.141420  1.119797  0.114574 -0.182811\n",
      "California      2.523980 -1.542934  0.598557 -0.341996\n",
      "Colorado        1.514563 -0.987555  1.095007  0.001465\n",
      "Connecticut    -1.358647 -1.088928 -0.643258 -0.118469\n",
      "Delaware        0.047709 -0.325359 -0.718633 -0.881978\n",
      "Florida         3.013042  0.039229 -0.576829 -0.096285\n",
      "Georgia         1.639283  1.278942 -0.342460  1.076797\n",
      "Hawaii         -0.912657 -1.570460  0.050782  0.902807\n",
      "Idaho          -1.639800  0.210973  0.259801 -0.499104\n",
      "Illinois        1.378911 -0.681841 -0.677496 -0.122021\n",
      "Indiana        -0.505461 -0.151563  0.228055  0.424666\n",
      "Iowa           -2.253646 -0.104054  0.164564  0.017556\n",
      "Kansas         -0.796881 -0.270165  0.025553  0.206496\n",
      "Kentucky       -0.750859  0.958440 -0.028369  0.670557\n",
      "Louisiana       1.564818  0.871055 -0.783480  0.454728\n",
      "Maine          -2.396829  0.376392 -0.065682 -0.330460\n",
      "Maryland        1.763369  0.427655 -0.157250 -0.559070\n",
      "Massachusetts  -0.486166 -1.474496 -0.609497 -0.179599\n",
      "Michigan        2.108441 -0.155397  0.384869  0.102372\n",
      "Minnesota      -1.692682 -0.632261  0.153070  0.067317\n",
      "Mississippi     0.996494  2.393796 -0.740808  0.215508\n",
      "Missouri        0.696787 -0.263355  0.377444  0.225824\n",
      "Montana        -1.185452  0.536874  0.246889  0.123742\n",
      "Nebraska       -1.265637 -0.193954  0.175574  0.015893\n",
      "Nevada          2.874395 -0.775600  1.163380  0.314515\n",
      "New Hampshire  -2.383915 -0.018082  0.036855 -0.033137\n",
      "New Jersey      0.181566 -1.449506 -0.764454  0.243383\n",
      "New Mexico      1.980024  0.142849  0.183692 -0.339534\n",
      "New York        1.682577 -0.823184 -0.643075 -0.013484\n",
      "North Carolina  1.123379  2.228003 -0.863572 -0.954382\n",
      "North Dakota   -2.992226  0.599119  0.301277 -0.253987\n",
      "Ohio           -0.225965 -0.742238 -0.031139  0.473916\n",
      "Oklahoma       -0.311783 -0.287854 -0.015310  0.010332\n",
      "Oregon          0.059122 -0.541411  0.939833 -0.237781\n",
      "Pennsylvania   -0.888416 -0.571100 -0.400629  0.359061\n",
      "Rhode Island   -0.863772 -1.491978 -1.369946 -0.613569\n",
      "South Carolina  1.320724  1.933405 -0.300538 -0.131467\n",
      "South Dakota   -1.987775  0.823343  0.389293 -0.109572\n",
      "Tennessee       0.999742  0.860251  0.188083  0.652864\n",
      "Texas           1.355138 -0.412481 -0.492069  0.643195\n",
      "Utah           -0.550565 -1.471505  0.293728 -0.082314\n",
      "Vermont        -2.801412  1.402288  0.841263 -0.144890\n",
      "Virginia       -0.096335  0.199735  0.011713  0.211371\n",
      "Washington     -0.216903 -0.970124  0.624871 -0.220848\n",
      "West Virginia  -2.108585  1.424847  0.104775  0.131909\n",
      "Wisconsin      -2.079714 -0.611269 -0.138865  0.184104\n",
      "Wyoming        -0.629427  0.321013 -0.240659 -0.166652\n"
     ]
    }
   ],
   "source": [
    "# Print principal component score vectors\n",
    "pca_score_vectors_df = pd.DataFrame(pca_score_vectors, index=states, columns=columns_pca)\n",
    "print(pca_score_vectors_df)"
   ]
  },
  {
   "cell_type": "markdown",
   "metadata": {},
   "source": [
    "Let's make a biplot of the first two components:"
   ]
  },
  {
   "cell_type": "code",
   "execution_count": 78,
   "metadata": {},
   "outputs": [
    {
     "data": {
      "image/png": "[encoded data removed]",
      "text/plain": [
       "<Figure size 432x288 with 1 Axes>"
      ]
     },
     "metadata": {
      "needs_background": "light"
     },
     "output_type": "display_data"
    }
   ],
   "source": [
    "# Plot the first two PCA components\n",
    "\n",
    "def myplot(score,coeff,labels=None):\n",
    "    xs = score[:,0]\n",
    "    ys = score[:,1]\n",
    "    n = coeff.shape[0]\n",
    "    scalex = 1.0/(xs.max() - xs.min())\n",
    "    scaley = 1.0/(ys.max() - ys.min())\n",
    "    plt.scatter(xs * scalex,ys * scaley)\n",
    "    for i in range(n):\n",
    "        plt.arrow(0, 0, coeff[i,0], coeff[i,1],color = 'r',alpha = 0.5)\n",
    "        if labels is None:\n",
    "            plt.text(coeff[i,0]* 1.15, coeff[i,1] * 1.15, \"VAR\"+str(i+1), color = 'g', ha = 'center', va = 'center')\n",
    "        else:\n",
    "            plt.text(coeff[i,0]* 1.15, coeff[i,1] * 1.15, labels[i], color = 'g', ha = 'center', va = 'center')\n",
    "plt.xlim(-1,1)\n",
    "plt.ylim(-1,1)\n",
    "plt.xlabel(\"PCA_{}\".format(1))\n",
    "plt.ylabel(\"PCA_{}\".format(2))\n",
    "plt.grid()\n",
    "\n",
    "# Call the function. Use only the 2 PCs.\n",
    "myplot(pca_score_vectors[:,0:2], pca_loadings[:,0:2], labels=features)\n",
    "plt.show()\n",
    "\n",
    "## CREDITS: https://stackoverflow.com/questions/39216897/plot-pca-loadings-and-loading-in-biplot-in-sklearn-like-rs-autoplot"
   ]
  },
  {
   "cell_type": "code",
   "execution_count": 63,
   "metadata": {},
   "outputs": [
    {
     "name": "stdout",
     "output_type": "stream",
     "text": [
      "                    PCA1      PCA2      PCA3      PCA4\n",
      "Variance        2.530859  1.009964  0.363840  0.176969\n",
      "Variance_ratio  0.620060  0.247441  0.089141  0.043358\n"
     ]
    }
   ],
   "source": [
    "# Print explained variance by each component\n",
    "variance = pca.explained_variance_\n",
    "variance_ratio = pca.explained_variance_ratio_\n",
    "\n",
    "variance_df = pd.DataFrame([variance, variance_ratio], index = ['Variance', 'Variance_ratio'], columns=columns_pca)\n",
    "print(variance_df)"
   ]
  },
  {
   "cell_type": "code",
   "execution_count": 70,
   "metadata": {},
   "outputs": [
    {
     "data": {
      "text/plain": [
       "Text(0.5,0,'Component')"
      ]
     },
     "execution_count": 70,
     "metadata": {},
     "output_type": "execute_result"
    },
    {
     "data": {
      "image/png": "[encoded data removed]",
      "text/plain": [
       "<matplotlib.figure.Figure at 0x1a134dd6a0>"
      ]
     },
     "metadata": {},
     "output_type": "display_data"
    }
   ],
   "source": [
    "# Plot variance explained by each component \n",
    "plt.plot(variance_df.loc['Variance_ratio'])\n",
    "plt.title('Proportion of variance explained by each component')\n",
    "plt.ylabel('Variance Ratio')\n",
    "plt.xlabel('Component')"
   ]
  },
  {
   "cell_type": "code",
   "execution_count": 75,
   "metadata": {},
   "outputs": [
    {
     "data": {
      "text/plain": [
       "Text(0.5,0,'Component')"
      ]
     },
     "execution_count": 75,
     "metadata": {},
     "output_type": "execute_result"
    },
    {
     "data": {
      "image/png": "[encoded data removed]",
      "text/plain": [
       "<matplotlib.figure.Figure at 0x1a120094a8>"
      ]
     },
     "metadata": {},
     "output_type": "display_data"
    }
   ],
   "source": [
    "# Plot cumulative sum of variance explained by each component\n",
    "\n",
    "cumulative_values = np.cumsum(variance_ratio)\n",
    "\n",
    "plt.plot(cumulative_values)\n",
    "plt.title('Cumulative proportion of variance explained')\n",
    "plt.ylabel('Variance Ratio')\n",
    "plt.xlabel('Component')"
   ]
  },
  {
   "cell_type": "code",
   "execution_count": 13,
   "metadata": {
    "collapsed": true
   },
   "outputs": [],
   "source": [
    "import statsmodels.multivariate.pca as sm_pca"
   ]
  },
  {
   "cell_type": "code",
   "execution_count": 29,
   "metadata": {},
   "outputs": [
    {
     "name": "stdout",
     "output_type": "stream",
     "text": [
      "              PCA1      PCA2      PCA3      PCA4\n",
      "Murder   -0.535899  0.418181 -0.341233  0.649228\n",
      "Assault  -0.583184  0.187986 -0.268148 -0.743407\n",
      "UrbanPop -0.278191 -0.872806 -0.378016  0.133878\n",
      "Rape     -0.543432 -0.167319  0.817778  0.089024\n"
     ]
    }
   ],
   "source": [
    "# Compute PCA\n",
    "pc = sm_pca.PCA(x, normalize=False)\n",
    "\n",
    "# Print loadings \n",
    "columns_pca = ['PCA1', 'PCA2', 'PCA3', 'PCA4']\n",
    "pca_loadings_sm = pd.DataFrame(pc.loadings, index=features, columns=columns_pca)\n",
    "print(pca_loadings_sm)"
   ]
  },
  {
   "cell_type": "code",
   "execution_count": 25,
   "metadata": {},
   "outputs": [
    {
     "name": "stdout",
     "output_type": "stream",
     "text": [
      "                    PCA1      PCA2      PCA3      PCA4\n",
      "Alabama        -0.985566  1.133392 -0.444269  0.156267\n",
      "Alaska         -1.950138  1.073213  2.040003 -0.438583\n",
      "Arizona        -1.763164 -0.745957  0.054781 -0.834653\n",
      "Arkansas        0.141420  1.119797  0.114574 -0.182811\n",
      "California     -2.523980 -1.542934  0.598557 -0.341996\n",
      "Colorado       -1.514563 -0.987555  1.095007  0.001465\n",
      "Connecticut     1.358647 -1.088928 -0.643258 -0.118469\n",
      "Delaware       -0.047709 -0.325359 -0.718633 -0.881978\n",
      "Florida        -3.013042  0.039229 -0.576829 -0.096285\n",
      "Georgia        -1.639283  1.278942 -0.342460  1.076797\n",
      "Hawaii          0.912657 -1.570460  0.050782  0.902807\n",
      "Idaho           1.639800  0.210973  0.259801 -0.499104\n",
      "Illinois       -1.378911 -0.681841 -0.677496 -0.122021\n",
      "Indiana         0.505461 -0.151563  0.228055  0.424666\n",
      "Iowa            2.253646 -0.104054  0.164564  0.017556\n",
      "Kansas          0.796881 -0.270165  0.025553  0.206496\n",
      "Kentucky        0.750859  0.958440 -0.028369  0.670557\n",
      "Louisiana      -1.564818  0.871055 -0.783480  0.454728\n",
      "Maine           2.396829  0.376392 -0.065682 -0.330460\n",
      "Maryland       -1.763369  0.427655 -0.157250 -0.559070\n",
      "Massachusetts   0.486166 -1.474496 -0.609497 -0.179599\n",
      "Michigan       -2.108441 -0.155397  0.384869  0.102372\n",
      "Minnesota       1.692682 -0.632261  0.153070  0.067317\n",
      "Mississippi    -0.996494  2.393796 -0.740808  0.215508\n",
      "Missouri       -0.696787 -0.263355  0.377444  0.225824\n",
      "Montana         1.185452  0.536874  0.246889  0.123742\n",
      "Nebraska        1.265637 -0.193954  0.175574  0.015893\n",
      "Nevada         -2.874395 -0.775600  1.163380  0.314515\n",
      "New Hampshire   2.383915 -0.018082  0.036855 -0.033137\n",
      "New Jersey     -0.181566 -1.449506 -0.764454  0.243383\n",
      "New Mexico     -1.980024  0.142849  0.183692 -0.339534\n",
      "New York       -1.682577 -0.823184 -0.643075 -0.013484\n",
      "North Carolina -1.123379  2.228003 -0.863572 -0.954382\n",
      "North Dakota    2.992226  0.599119  0.301277 -0.253987\n",
      "Ohio            0.225965 -0.742238 -0.031139  0.473916\n",
      "Oklahoma        0.311783 -0.287854 -0.015310  0.010332\n",
      "Oregon         -0.059122 -0.541411  0.939833 -0.237781\n",
      "Pennsylvania    0.888416 -0.571100 -0.400629  0.359061\n",
      "Rhode Island    0.863772 -1.491978 -1.369946 -0.613569\n",
      "South Carolina -1.320724  1.933405 -0.300538 -0.131467\n",
      "South Dakota    1.987775  0.823343  0.389293 -0.109572\n",
      "Tennessee      -0.999742  0.860251  0.188083  0.652864\n",
      "Texas          -1.355138 -0.412481 -0.492069  0.643195\n",
      "Utah            0.550565 -1.471505  0.293728 -0.082314\n",
      "Vermont         2.801412  1.402288  0.841263 -0.144890\n",
      "Virginia        0.096335  0.199735  0.011713  0.211371\n",
      "Washington      0.216903 -0.970124  0.624871 -0.220848\n",
      "West Virginia   2.108585  1.424847  0.104775  0.131909\n",
      "Wisconsin       2.079714 -0.611269 -0.138865  0.184104\n",
      "Wyoming         0.629427  0.321013 -0.240659 -0.166652\n"
     ]
    }
   ],
   "source": [
    "# Print scores \n",
    "pca_score_sm = pd.DataFrame(pc.scores, index=states, columns=columns_pca)\n",
    "print(pca_score_sm)"
   ]
  },
  {
   "cell_type": "code",
   "execution_count": 31,
   "metadata": {},
   "outputs": [
    {
     "data": {
      "image/png": "[encoded data removed]",
      "text/plain": [
       "<matplotlib.figure.Figure at 0x1a08c176a0>"
      ]
     },
     "execution_count": 31,
     "metadata": {},
     "output_type": "execute_result"
    }
   ],
   "source": [
    "pc.plot_scree()"
   ]
  },
  {
   "cell_type": "code",
   "execution_count": null,
   "metadata": {
    "collapsed": true
   },
   "outputs": [],
   "source": []
  }
 ],
 "metadata": {
  "kernelspec": {
   "display_name": "Python 3",
   "language": "python",
   "name": "python3"
  },
  "language_info": {
   "codemirror_mode": {
    "name": "ipython",
    "version": 3
   },
   "file_extension": ".py",
   "mimetype": "text/x-python",
   "name": "python",
   "nbconvert_exporter": "python",
   "pygments_lexer": "ipython3",
   "version": "3.6.8"
  }
 },
 "nbformat": 4,
 "nbformat_minor": 2
}
