{
 "cells": [
  {
   "cell_type": "markdown",
   "metadata": {},
   "source": [
    "# LAB 2: Clustering"
   ]
  },
  {
   "cell_type": "code",
   "execution_count": 51,
   "metadata": {},
   "outputs": [],
   "source": [
    "import numpy as np\n",
    "import pandas as pd\n",
    "import random\n",
    "from scipy.cluster.hierarchy import dendrogram\n",
    "\n",
    "import matplotlib.pyplot as plt\n",
    "%matplotlib inline\n",
    "\n",
    "import sklearn\n",
    "from sklearn.cluster import KMeans, AgglomerativeClustering"
   ]
  },
  {
   "cell_type": "code",
   "execution_count": 2,
   "metadata": {},
   "outputs": [
    {
     "name": "stdout",
     "output_type": "stream",
     "text": [
      "[[ 3.4359949  -3.97407377]\n",
      " [ 3.54966248 -3.56467761]\n",
      " [ 3.4203678  -3.66966518]\n",
      " [ 3.20464863 -3.38072903]\n",
      " [ 3.29965467 -3.73317272]\n",
      " [ 3.62113383 -3.47085791]\n",
      " [ 3.13457995 -3.48642188]\n",
      " [ 3.18443987 -3.21466485]\n",
      " [ 3.85397529 -3.50576316]\n",
      " [ 3.84656149 -3.92035452]\n",
      " [ 3.50524609 -3.9347135 ]\n",
      " [ 3.42812233 -3.90346908]\n",
      " [ 3.12715997 -3.40325469]\n",
      " [ 3.226012   -3.89305432]\n",
      " [ 3.22030621 -3.65017371]\n",
      " [ 3.46778748 -3.79825677]\n",
      " [ 3.64040673 -3.51693016]\n",
      " [ 3.50523672 -3.61310735]\n",
      " [ 3.79363745 -3.41999582]\n",
      " [ 3.1622986  -3.29924765]\n",
      " [ 3.96455108 -3.49999164]\n",
      " [ 3.88952006 -3.65838635]\n",
      " [ 3.56714413 -3.57245404]\n",
      " [ 3.43674726 -3.22344082]\n",
      " [ 0.53560417  0.95374223]\n",
      " [ 0.54420816  0.08209492]\n",
      " [ 0.3663424   0.8508505 ]\n",
      " [ 0.40627504  0.02720237]\n",
      " [ 0.24717724  0.06714437]\n",
      " [ 0.99385201  0.97058031]\n",
      " [ 0.80025835  0.60181712]\n",
      " [ 0.76495986  0.16922545]\n",
      " [ 0.29302323  0.52406688]\n",
      " [ 0.35662428  0.04567897]\n",
      " [ 0.98315345  0.44135492]\n",
      " [ 0.50400044  0.32354132]\n",
      " [ 0.25974475  0.38688989]\n",
      " [ 0.8320169   0.73674706]\n",
      " [ 0.37921057  0.01301734]\n",
      " [ 0.79740494  0.2693888 ]\n",
      " [ 0.58268489  0.02555094]\n",
      " [ 0.66220202  0.38752343]\n",
      " [ 0.4970738   0.41490584]\n",
      " [ 0.3508719   0.55097791]\n",
      " [ 0.97291069  0.11277622]\n",
      " [ 0.31325853  0.04179771]\n",
      " [ 0.73839976  0.65751239]\n",
      " [ 0.21463575  0.41675344]\n",
      " [ 0.64384193  0.66148133]\n",
      " [ 0.17047713  0.88165224]]\n",
      "(50, 2)\n"
     ]
    }
   ],
   "source": [
    "# Simulate data for clusters\n",
    "random.seed(2)\n",
    "\n",
    "np.random.seed(2)\n",
    "x = np.random.rand(50,2)\n",
    "x[0:24,0] = x[0:24,0] + 3\n",
    "x[0:24,1] = x[0:24,1] - 4\n",
    "print(x)\n",
    "print(np.shape(x))"
   ]
  },
  {
   "cell_type": "code",
   "execution_count": 3,
   "metadata": {},
   "outputs": [
    {
     "name": "stdout",
     "output_type": "stream",
     "text": [
      "cluster labels: \n",
      "[1 1 1 1 1 1 1 1 1 1 1 1 1 1 1 1 1 1 1 1 1 1 1 1 0 0 0 0 0 0 0 0 0 0 0 0 0\n",
      " 0 0 0 0 0 0 0 0 0 0 0 0 0]\n",
      "\n",
      "cluster centroids: \n",
      "[[ 0.54654662  0.4082413 ]\n",
      " [ 3.47854979 -3.59611902]]\n"
     ]
    }
   ],
   "source": [
    "# Perform K-means clustering with K = 2 \n",
    "kmeans = KMeans(n_clusters=2, n_init=20)\n",
    "kmeans.fit(x)\n",
    "kmeans_labels = kmeans.labels_\n",
    "centers = kmeans.cluster_centers_\n",
    "print('cluster labels: \\n' + str(kmeans.labels_) + '\\n')\n",
    "print('cluster centroids: \\n' + str(kmeans.cluster_centers_))"
   ]
  },
  {
   "cell_type": "markdown",
   "metadata": {},
   "source": [
    "Cluster centroids display the mean for each centroid (rows) in each feature (columns)"
   ]
  },
  {
   "cell_type": "code",
   "execution_count": 4,
   "metadata": {},
   "outputs": [
    {
     "data": {
      "image/png": "[encoded data removed]",
      "text/plain": [
       "<Figure size 432x288 with 1 Axes>"
      ]
     },
     "metadata": {
      "needs_background": "light"
     },
     "output_type": "display_data"
    }
   ],
   "source": [
    "# Plot results\n",
    "plt.scatter(x[:, 0], x[:, 1], c=kmeans_labels, s=50, cmap='plasma')\n",
    "plt.scatter(centers[:, 0], centers[:, 1], c='red', s=200, alpha=1);"
   ]
  },
  {
   "cell_type": "code",
   "execution_count": 5,
   "metadata": {},
   "outputs": [
    {
     "name": "stdout",
     "output_type": "stream",
     "text": [
      "cluster labels: \n",
      "[0 0 0 0 0 0 0 0 0 0 0 0 0 0 0 0 0 0 0 0 0 0 0 0 2 1 2 1 1 2 2 1 1 1 2 1 1\n",
      " 2 1 1 1 1 1 1 1 1 2 1 2 2]\n",
      "\n",
      "cluster centroids: \n",
      "[[ 3.47854979 -3.59611902]\n",
      " [ 0.47919212  0.22697269]\n",
      " [ 0.67377179  0.75063757]]\n"
     ]
    },
    {
     "data": {
      "image/png": "[encoded data removed]",
      "text/plain": [
       "<Figure size 432x288 with 1 Axes>"
      ]
     },
     "metadata": {
      "needs_background": "light"
     },
     "output_type": "display_data"
    }
   ],
   "source": [
    "# Repeat with n-clusters 3\n",
    "random.seed(4)\n",
    "\n",
    "kmeans = KMeans(n_clusters=3, n_init=20)\n",
    "kmeans.fit(x)\n",
    "kmeans_labels = kmeans.labels_\n",
    "centers = kmeans.cluster_centers_\n",
    "print('cluster labels: \\n' + str(kmeans.labels_) + '\\n')\n",
    "print('cluster centroids: \\n' + str(kmeans.cluster_centers_))\n",
    "\n",
    "# Plot results\n",
    "plt.scatter(x[:, 0], x[:, 1], c=kmeans_labels, s=50, cmap='plasma')\n",
    "plt.scatter(centers[:, 0], centers[:, 1], c='red', s=200, alpha=1);"
   ]
  },
  {
   "cell_type": "code",
   "execution_count": 6,
   "metadata": {},
   "outputs": [
    {
     "name": "stdout",
     "output_type": "stream",
     "text": [
      "within cluster sum of squares for n_init=1: 5.538628135623786\n",
      "within cluster sum of squares for n_init=20: 4.878211086918383\n"
     ]
    }
   ],
   "source": [
    "# Compare performance with n_init of 1 and n_init of 20\n",
    "random.seed(3)\n",
    "kmeans = KMeans(n_clusters=3, n_init=1)\n",
    "kmeans.fit(x)\n",
    "print('within cluster sum of squares for n_init=1: ' + str(kmeans.inertia_))\n",
    "\n",
    "kmeans = KMeans(n_clusters=3, n_init=20)\n",
    "kmeans.fit(x)\n",
    "print('within cluster sum of squares for n_init=20: ' + str(kmeans.inertia_))"
   ]
  },
  {
   "cell_type": "code",
   "execution_count": 7,
   "metadata": {},
   "outputs": [
    {
     "data": {
      "text/plain": [
       "AgglomerativeClustering(affinity='euclidean', compute_full_tree='auto',\n",
       "            connectivity=None, linkage='single', memory=None, n_clusters=2,\n",
       "            pooling_func='deprecated')"
      ]
     },
     "execution_count": 7,
     "metadata": {},
     "output_type": "execute_result"
    }
   ],
   "source": [
    "# Compute hierarchical clustering with different linkages\n",
    "\n",
    "hc_complete = AgglomerativeClustering(linkage='complete')\n",
    "hc_average = AgglomerativeClustering(linkage='average')\n",
    "hc_single = AgglomerativeClustering(linkage='single')\n",
    "hc_complete.fit(x)\n",
    "hc_average.fit(x)\n",
    "hc_single.fit(x)"
   ]
  },
  {
   "cell_type": "code",
   "execution_count": 50,
   "metadata": {},
   "outputs": [
    {
     "name": "stdout",
     "output_type": "stream",
     "text": [
      "[1 1 1 1 1 1 1 1 1 1 1 1 1 1 1 1 1 1 1 1 1 1 1 1 0 0 0 0 0 0 0 0 0 0 0 0 0\n",
      " 0 0 0 0 0 0 0 0 0 0 0 0 0]\n",
      "[1 1 1 1 1 1 1 1 1 1 1 1 1 1 1 1 1 1 1 1 1 1 1 1 0 0 0 0 0 0 0 0 0 0 0 0 0\n",
      " 0 0 0 0 0 0 0 0 0 0 0 0 0]\n",
      "[1 1 1 1 1 1 1 1 1 1 1 1 1 1 1 1 1 1 1 1 1 1 1 1 0 0 0 0 0 0 0 0 0 0 0 0 0\n",
      " 0 0 0 0 0 0 0 0 0 0 0 0 0]\n"
     ]
    }
   ],
   "source": [
    "print(hc_complete.labels_)\n",
    "print(hc_average.labels_)\n",
    "print(hc_single.labels_)"
   ]
  },
  {
   "cell_type": "code",
   "execution_count": 59,
   "metadata": {},
   "outputs": [
    {
     "data": {
      "text/plain": [
       "Text(0.5,1,'hc single')"
      ]
     },
     "execution_count": 59,
     "metadata": {},
     "output_type": "execute_result"
    },
    {
     "data": {
      "image/png": "[encoded data removed]",
      "text/plain": [
       "<Figure size 1440x360 with 3 Axes>"
      ]
     },
     "metadata": {
      "needs_background": "light"
     },
     "output_type": "display_data"
    }
   ],
   "source": [
    "# plot dendogram\n",
    "\n",
    "def plot_dendrogram(model, **kwargs):\n",
    "\n",
    "    # Children of hierarchical clustering\n",
    "    children = model.children_\n",
    "\n",
    "    # Distances between each pair of children\n",
    "    # Since we don't have this information, we can use a uniform one for plotting\n",
    "    distance = np.arange(children.shape[0])\n",
    "\n",
    "    # The number of observations contained in each cluster level\n",
    "    no_of_observations = np.arange(2, children.shape[0]+2)\n",
    "\n",
    "    # Create linkage matrix and then plot the dendrogram\n",
    "    linkage_matrix = np.column_stack([children, distance, no_of_observations]).astype(float)\n",
    "\n",
    "    # Plot the corresponding dendrogram\n",
    "    dendrogram(linkage_matrix, **kwargs)\n",
    "    \n",
    "#plot_dendrogram(hc_complete)\n",
    "fig, (ax1, ax2, ax3) = plt.subplots(1,3, figsize=(20, 5))\n",
    "\n",
    "plot_dendrogram(hc_average, ax=ax1)\n",
    "ax1.set_title('hc average')\n",
    "plot_dendrogram(hc_complete, ax=ax2)\n",
    "ax2.set_title('hc complete')\n",
    "plot_dendrogram(hc_single, ax=ax3)\n",
    "ax3.set_title('hc single')"
   ]
  },
  {
   "cell_type": "code",
   "execution_count": 70,
   "metadata": {},
   "outputs": [
    {
     "name": "stdout",
     "output_type": "stream",
     "text": [
      "[[ 1 22]\n",
      " [27 38]\n",
      " [33 45]\n",
      " [ 5 16]\n",
      " [36 47]\n",
      " [32 43]\n",
      " [25 40]\n",
      " [ 0 11]\n",
      " [17 50]\n",
      " [ 3 12]\n",
      " [10 57]\n",
      " [30 46]\n",
      " [ 7 19]\n",
      " [35 42]\n",
      " [51 52]\n",
      " [ 8 18]\n",
      " [31 39]\n",
      " [ 4 14]\n",
      " [ 6 59]\n",
      " [ 2 15]\n",
      " [37 61]\n",
      " [28 64]\n",
      " [41 63]\n",
      " [20 21]\n",
      " [53 58]\n",
      " [54 55]\n",
      " [24 26]\n",
      " [48 70]\n",
      " [44 66]\n",
      " [13 67]\n",
      " [65 73]\n",
      " [62 68]\n",
      " [69 79]\n",
      " [56 71]\n",
      " [34 78]\n",
      " [49 76]\n",
      " [23 74]\n",
      " [60 82]\n",
      " [72 75]\n",
      " [29 77]\n",
      " [ 9 80]\n",
      " [81 86]\n",
      " [83 88]\n",
      " [87 91]\n",
      " [84 92]\n",
      " [85 89]\n",
      " [90 93]\n",
      " [94 95]\n",
      " [96 97]]\n"
     ]
    }
   ],
   "source": [
    "print(hc_complete.children_)"
   ]
  },
  {
   "cell_type": "code",
   "execution_count": 78,
   "metadata": {},
   "outputs": [
    {
     "name": "stdout",
     "output_type": "stream",
     "text": [
      "[[1.00000000e+00 2.20000000e+01 1.91332415e-02 2.00000000e+00]\n",
      " [2.70000000e+01 3.80000000e+01 3.05565201e-02 2.00000000e+00]\n",
      " [3.30000000e+01 4.50000000e+01 4.35390934e-02 2.00000000e+00]\n",
      " [5.00000000e+00 1.60000000e+01 4.99409392e-02 2.00000000e+00]\n",
      " [3.60000000e+01 4.70000000e+01 5.40985616e-02 2.00000000e+00]\n",
      " [3.20000000e+01 4.30000000e+01 6.38018189e-02 2.00000000e+00]\n",
      " [2.50000000e+01 4.00000000e+01 6.83935695e-02 2.00000000e+00]\n",
      " [0.00000000e+00 1.10000000e+01 7.10422326e-02 2.00000000e+00]\n",
      " [1.70000000e+01 5.00000000e+01 7.40622637e-02 3.00000000e+00]\n",
      " [3.00000000e+00 1.20000000e+01 8.06963322e-02 2.00000000e+00]\n",
      " [1.00000000e+01 5.70000000e+01 8.32123067e-02 3.00000000e+00]\n",
      " [3.00000000e+01 4.60000000e+01 8.32373002e-02 2.00000000e+00]\n",
      " [7.00000000e+00 1.90000000e+01 8.74327511e-02 2.00000000e+00]\n",
      " [3.50000000e+01 4.20000000e+01 9.16267092e-02 2.00000000e+00]\n",
      " [5.10000000e+01 5.20000000e+01 9.41546391e-02 4.00000000e+00]\n",
      " [8.00000000e+00 1.80000000e+01 1.04865111e-01 2.00000000e+00]\n",
      " [3.10000000e+01 3.90000000e+01 1.05287131e-01 2.00000000e+00]\n",
      " [4.00000000e+00 1.40000000e+01 1.14826020e-01 2.00000000e+00]\n",
      " [6.00000000e+00 5.90000000e+01 1.26809300e-01 3.00000000e+00]\n",
      " [2.00000000e+00 1.50000000e+01 1.37056282e-01 2.00000000e+00]\n",
      " [3.70000000e+01 6.10000000e+01 1.38617072e-01 3.00000000e+00]\n",
      " [2.80000000e+01 6.40000000e+01 1.64034981e-01 5.00000000e+00]\n",
      " [4.10000000e+01 6.30000000e+01 1.70650081e-01 3.00000000e+00]\n",
      " [2.00000000e+01 2.10000000e+01 1.75267045e-01 2.00000000e+00]\n",
      " [5.30000000e+01 5.80000000e+01 1.83485816e-01 5.00000000e+00]\n",
      " [5.40000000e+01 5.50000000e+01 1.91249829e-01 4.00000000e+00]\n",
      " [2.40000000e+01 2.60000000e+01 1.98081433e-01 2.00000000e+00]\n",
      " [4.80000000e+01 7.00000000e+01 2.02669060e-01 4.00000000e+00]\n",
      " [4.40000000e+01 6.60000000e+01 2.35222808e-01 3.00000000e+00]\n",
      " [1.30000000e+01 6.70000000e+01 2.42947612e-01 3.00000000e+00]\n",
      " [6.50000000e+01 7.30000000e+01 2.56950419e-01 4.00000000e+00]\n",
      " [6.20000000e+01 6.80000000e+01 2.76293129e-01 5.00000000e+00]\n",
      " [6.90000000e+01 7.90000000e+01 2.96102827e-01 5.00000000e+00]\n",
      " [5.60000000e+01 7.10000000e+01 3.38076021e-01 7.00000000e+00]\n",
      " [3.40000000e+01 7.80000000e+01 3.48802079e-01 4.00000000e+00]\n",
      " [4.90000000e+01 7.60000000e+01 3.72175660e-01 3.00000000e+00]\n",
      " [2.30000000e+01 7.40000000e+01 3.95639752e-01 6.00000000e+00]\n",
      " [6.00000000e+01 8.20000000e+01 4.02683031e-01 8.00000000e+00]\n",
      " [7.20000000e+01 7.50000000e+01 4.48519746e-01 7.00000000e+00]\n",
      " [2.90000000e+01 7.70000000e+01 4.66957426e-01 5.00000000e+00]\n",
      " [9.00000000e+00 8.00000000e+01 5.03149862e-01 5.00000000e+00]\n",
      " [8.10000000e+01 8.60000000e+01 5.47055844e-01 1.10000000e+01]\n",
      " [8.30000000e+01 8.80000000e+01 5.76560501e-01 1.40000000e+01]\n",
      " [8.70000000e+01 9.10000000e+01 7.99988649e-01 1.90000000e+01]\n",
      " [8.40000000e+01 9.20000000e+01 8.25647934e-01 1.80000000e+01]\n",
      " [8.50000000e+01 8.90000000e+01 8.28163264e-01 8.00000000e+00]\n",
      " [9.00000000e+01 9.30000000e+01 9.67679157e-01 2.40000000e+01]\n",
      " [9.40000000e+01 9.50000000e+01 1.17205790e+00 2.60000000e+01]\n",
      " [9.60000000e+01 9.70000000e+01 6.04755034e+00 5.00000000e+01]]\n"
     ]
    }
   ],
   "source": [
    "# print linkage using scipy\n",
    "\n",
    "from scipy.cluster.hierarchy import dendrogram, linkage, cut_tree\n",
    "\n",
    "z = sc(x, 'complete')\n",
    "print(z)"
   ]
  },
  {
   "cell_type": "markdown",
   "metadata": {},
   "source": [
    "- First and second column indicate indexes to merge.\n",
    "- Third column indicates de distance between the indexes\n",
    "- Forth column indicates the number of samples in the cluster\n",
    "- If idx excedes the dimensions of x, then is indexing the iteration number of the cluster to be added"
   ]
  },
  {
   "cell_type": "code",
   "execution_count": 76,
   "metadata": {},
   "outputs": [
    {
     "data": {
      "image/png": "[encoded data removed]",
      "text/plain": [
       "<Figure size 1800x720 with 1 Axes>"
      ]
     },
     "metadata": {
      "needs_background": "light"
     },
     "output_type": "display_data"
    }
   ],
   "source": [
    "plt.figure(figsize=(25, 10))\n",
    "plt.title('Hierarchical Clustering Dendrogram')\n",
    "plt.xlabel('sample index')\n",
    "plt.ylabel('distance')\n",
    "dendrogram(\n",
    "    z,\n",
    "    leaf_rotation=90.,  # rotates the x axis labels\n",
    "    leaf_font_size=8.,  # font size for the x axis labels\n",
    ")\n",
    "plt.show()"
   ]
  },
  {
   "cell_type": "code",
   "execution_count": 87,
   "metadata": {},
   "outputs": [
    {
     "name": "stdout",
     "output_type": "stream",
     "text": [
      "[[0]\n",
      " [0]\n",
      " [0]\n",
      " [0]\n",
      " [0]\n",
      " [0]\n",
      " [0]\n",
      " [0]\n",
      " [0]\n",
      " [0]\n",
      " [0]\n",
      " [0]\n",
      " [0]\n",
      " [0]\n",
      " [0]\n",
      " [0]\n",
      " [0]\n",
      " [0]\n",
      " [0]\n",
      " [0]\n",
      " [0]\n",
      " [0]\n",
      " [0]\n",
      " [0]\n",
      " [0]\n",
      " [0]\n",
      " [0]\n",
      " [0]\n",
      " [0]\n",
      " [0]\n",
      " [0]\n",
      " [0]\n",
      " [0]\n",
      " [0]\n",
      " [0]\n",
      " [0]\n",
      " [0]\n",
      " [0]\n",
      " [0]\n",
      " [0]\n",
      " [0]\n",
      " [0]\n",
      " [0]\n",
      " [0]\n",
      " [0]\n",
      " [0]\n",
      " [0]\n",
      " [0]\n",
      " [0]\n",
      " [0]]\n"
     ]
    }
   ],
   "source": [
    "cutree = cut_tree(z, height=[10])\n",
    "print(cutree)"
   ]
  },
  {
   "cell_type": "markdown",
   "metadata": {},
   "source": [
    "Helpful resources:\n",
    "\n",
    "- [tutorial using scipy for hc](https://joernhees.de/blog/2015/08/26/scipy-hierarchical-clustering-and-dendrogram-tutorial/)\n",
    "- [scikit learn AgglomerativeCluster documentation](https://scikit-learn.org/stable/modules/generated/sklearn.cluster.AgglomerativeClustering.html)\n",
    "- [scipy documentation](https://docs.scipy.org/doc/scipy-0.18.1/reference/cluster.hierarchy.html#module-scipy.cluster.hierarchy)\n",
    "- [function for plotting dedrogram with sci-kit learn data](https://github.com/scikit-learn/scikit-learn/blob/70cf4a676caa2d2dad2e3f6e4478d64bcb0506f7/examples/cluster/plot_hierarchical_clustering_dendrogram.py)\n"
   ]
  },
  {
   "cell_type": "code",
   "execution_count": null,
   "metadata": {},
   "outputs": [],
   "source": []
  }
 ],
 "metadata": {
  "kernelspec": {
   "display_name": "Python 3",
   "language": "python",
   "name": "python3"
  },
  "language_info": {
   "codemirror_mode": {
    "name": "ipython",
    "version": 3
   },
   "file_extension": ".py",
   "mimetype": "text/x-python",
   "name": "python",
   "nbconvert_exporter": "python",
   "pygments_lexer": "ipython3",
   "version": "3.6.8"
  }
 },
 "nbformat": 4,
 "nbformat_minor": 2
}
